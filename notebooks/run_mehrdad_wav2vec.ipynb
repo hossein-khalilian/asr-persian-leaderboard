{
 "cells": [
  {
   "cell_type": "markdown",
   "id": "ec2399bc-466a-4b26-bff9-8bc68f17e9a3",
   "metadata": {
    "jp-MarkdownHeadingCollapsed": true
   },
   "source": [
    "# load dataset"
   ]
  },
  {
   "cell_type": "code",
   "execution_count": 3,
   "id": "8e0c979a-e2a9-42c9-95d3-218a37204d53",
   "metadata": {
    "execution": {
     "iopub.execute_input": "2025-07-02T13:07:04.597142Z",
     "iopub.status.busy": "2025-07-02T13:07:04.596504Z",
     "iopub.status.idle": "2025-07-02T13:07:08.091404Z",
     "shell.execute_reply": "2025-07-02T13:07:08.090129Z",
     "shell.execute_reply.started": "2025-07-02T13:07:04.597093Z"
    }
   },
   "outputs": [
    {
     "data": {
      "text/plain": [
       "Dataset({\n",
       "    features: ['client_id', 'path', 'sentence_id', 'sentence', 'sentence_domain', 'up_votes', 'down_votes', 'age', 'gender', 'accents', 'variant', 'locale', 'segment', 'audio', 'normalized_transcription'],\n",
       "    num_rows: 100\n",
       "})"
      ]
     },
     "execution_count": 3,
     "metadata": {},
     "output_type": "execute_result"
    }
   ],
   "source": [
    "from datasets import load_dataset\n",
    "dataset = load_dataset(\"hsekhalilian/commonvoice\", split=\"dev\")\n",
    "dataset = dataset.select(indices=range(100))\n",
    "dataset"
   ]
  },
  {
   "cell_type": "markdown",
   "id": "a331665a-7534-4a26-ae26-695d788149af",
   "metadata": {
    "jp-MarkdownHeadingCollapsed": true
   },
   "source": [
    "# load model"
   ]
  },
  {
   "cell_type": "code",
   "execution_count": 4,
   "id": "7cbdfcc6-c65d-4a5c-a02e-c9073f16cd0a",
   "metadata": {
    "execution": {
     "iopub.execute_input": "2025-07-02T13:07:08.093554Z",
     "iopub.status.busy": "2025-07-02T13:07:08.093093Z",
     "iopub.status.idle": "2025-07-02T13:07:12.531153Z",
     "shell.execute_reply": "2025-07-02T13:07:12.529749Z",
     "shell.execute_reply.started": "2025-07-02T13:07:08.093521Z"
    }
   },
   "outputs": [],
   "source": [
    "import torch\n",
    "from transformers import Wav2Vec2ForCTC, Wav2Vec2Processor"
   ]
  },
  {
   "cell_type": "code",
   "execution_count": 5,
   "id": "88924e03-e4b6-4321-89e0-89b4feadaff9",
   "metadata": {
    "execution": {
     "iopub.execute_input": "2025-07-02T13:07:12.532537Z",
     "iopub.status.busy": "2025-07-02T13:07:12.532004Z",
     "iopub.status.idle": "2025-07-02T13:07:12.626074Z",
     "shell.execute_reply": "2025-07-02T13:07:12.623986Z",
     "shell.execute_reply.started": "2025-07-02T13:07:12.532513Z"
    }
   },
   "outputs": [
    {
     "data": {
      "text/plain": [
       "device(type='cuda')"
      ]
     },
     "execution_count": 5,
     "metadata": {},
     "output_type": "execute_result"
    }
   ],
   "source": [
    "model_name_or_path = \"m3hrdadfi/wav2vec2-large-xlsr-persian-v3\"\n",
    "device = torch.device(\"cuda\" if torch.cuda.is_available() else \"cpu\")\n",
    "device"
   ]
  },
  {
   "cell_type": "code",
   "execution_count": 6,
   "id": "ae298118-476d-4efb-ad76-d83b1fb11423",
   "metadata": {
    "execution": {
     "iopub.execute_input": "2025-07-02T13:07:12.627595Z",
     "iopub.status.busy": "2025-07-02T13:07:12.627329Z",
     "iopub.status.idle": "2025-07-02T13:07:14.325390Z",
     "shell.execute_reply": "2025-07-02T13:07:14.324040Z",
     "shell.execute_reply.started": "2025-07-02T13:07:12.627573Z"
    }
   },
   "outputs": [
    {
     "name": "stderr",
     "output_type": "stream",
     "text": [
      "/opt/conda/lib/python3.12/site-packages/transformers/configuration_utils.py:309: UserWarning: Passing `gradient_checkpointing` to a config initialization is deprecated and will be removed in v5 Transformers. Using `model.gradient_checkpointing_enable()` instead, or if you are using the `Trainer` API, pass `gradient_checkpointing=True` in your `TrainingArguments`.\n",
      "  warnings.warn(\n"
     ]
    }
   ],
   "source": [
    "processor = Wav2Vec2Processor.from_pretrained(model_name_or_path)\n",
    "model = Wav2Vec2ForCTC.from_pretrained(model_name_or_path).to(device)"
   ]
  },
  {
   "cell_type": "markdown",
   "id": "52250a28-982a-408c-a5d5-bdf8612fcbc9",
   "metadata": {
    "jp-MarkdownHeadingCollapsed": true
   },
   "source": [
    "# predict"
   ]
  },
  {
   "cell_type": "code",
   "execution_count": 11,
   "id": "0e3bc2e1-515d-4c43-ac95-8a9b2f695028",
   "metadata": {
    "execution": {
     "iopub.execute_input": "2025-07-02T14:08:13.211009Z",
     "iopub.status.busy": "2025-07-02T14:08:13.210342Z",
     "iopub.status.idle": "2025-07-02T14:08:13.219306Z",
     "shell.execute_reply": "2025-07-02T14:08:13.217479Z",
     "shell.execute_reply.started": "2025-07-02T14:08:13.210954Z"
    }
   },
   "outputs": [],
   "source": [
    "import sys_append\n",
    "from utils.normalizer import persian_normalizer"
   ]
  },
  {
   "cell_type": "code",
   "execution_count": 8,
   "id": "86cec36b-b2c7-4cd0-b5f6-f59221338bc3",
   "metadata": {
    "execution": {
     "iopub.execute_input": "2025-07-02T13:07:14.334421Z",
     "iopub.status.busy": "2025-07-02T13:07:14.334169Z",
     "iopub.status.idle": "2025-07-02T13:07:14.360081Z",
     "shell.execute_reply": "2025-07-02T13:07:14.358893Z",
     "shell.execute_reply.started": "2025-07-02T13:07:14.334403Z"
    }
   },
   "outputs": [],
   "source": [
    "def predict(batch):\n",
    "    features = processor(\n",
    "        [sample[\"array\"] for sample in batch[\"audio\"]], \n",
    "        sampling_rate=processor.feature_extractor.sampling_rate, \n",
    "        return_tensors=\"pt\", \n",
    "        padding=True\n",
    "    )\n",
    "\n",
    "    input_values = features.input_values.to(device)\n",
    "    attention_mask = features.attention_mask.to(device)\n",
    "\n",
    "    with torch.no_grad():\n",
    "        logits = model(input_values, attention_mask=attention_mask).logits \n",
    "\n",
    "    pred_ids = torch.argmax(logits, dim=-1)\n",
    "\n",
    "    batch[\"predicted\"] = [persian_normalizer(item) for item in processor.batch_decode(pred_ids)]\n",
    "    return batch"
   ]
  },
  {
   "cell_type": "code",
   "execution_count": 9,
   "id": "276f5280-21dc-4c46-a377-69b3ce53e3e1",
   "metadata": {
    "execution": {
     "iopub.execute_input": "2025-07-02T13:07:17.700452Z",
     "iopub.status.busy": "2025-07-02T13:07:17.699732Z",
     "iopub.status.idle": "2025-07-02T13:07:34.024071Z",
     "shell.execute_reply": "2025-07-02T13:07:34.022831Z",
     "shell.execute_reply.started": "2025-07-02T13:07:17.700396Z"
    }
   },
   "outputs": [
    {
     "name": "stderr",
     "output_type": "stream",
     "text": [
      "Parameter 'function'=<function predict at 0x7528fd5ca520> of the transform datasets.arrow_dataset.Dataset._map_single couldn't be hashed properly, a random hash was used instead. Make sure your transforms and parameters are serializable with pickle or dill for the dataset fingerprinting and caching to work. If you reuse this transform, the caching mechanism will consider it to be different from the previous calls and recompute everything. This warning is only showed once. Subsequent hashing failures won't be showed.\n"
     ]
    },
    {
     "data": {
      "application/vnd.jupyter.widget-view+json": {
       "model_id": "6067f615ba0c42d9a3b2c45ef765232b",
       "version_major": 2,
       "version_minor": 0
      },
      "text/plain": [
       "Map:   0%|          | 0/100 [00:00<?, ? examples/s]"
      ]
     },
     "metadata": {},
     "output_type": "display_data"
    }
   ],
   "source": [
    "result = dataset.map(predict, batched=True, batch_size=4)"
   ]
  },
  {
   "cell_type": "code",
   "execution_count": 10,
   "id": "aaa787a1-6be2-49fe-acc9-afab97a28f6b",
   "metadata": {
    "execution": {
     "iopub.execute_input": "2025-07-02T14:07:53.436601Z",
     "iopub.status.busy": "2025-07-02T14:07:53.435924Z",
     "iopub.status.idle": "2025-07-02T14:07:53.448144Z",
     "shell.execute_reply": "2025-07-02T14:07:53.446515Z",
     "shell.execute_reply.started": "2025-07-02T14:07:53.436549Z"
    }
   },
   "outputs": [
    {
     "data": {
      "text/plain": [
       "Dataset({\n",
       "    features: ['client_id', 'path', 'sentence_id', 'sentence', 'sentence_domain', 'up_votes', 'down_votes', 'age', 'gender', 'accents', 'variant', 'locale', 'segment', 'audio', 'normalized_transcription', 'predicted'],\n",
       "    num_rows: 100\n",
       "})"
      ]
     },
     "execution_count": 10,
     "metadata": {},
     "output_type": "execute_result"
    }
   ],
   "source": [
    "result"
   ]
  },
  {
   "cell_type": "markdown",
   "id": "67fd2a79-5ed5-49cb-b40a-8163efea3e08",
   "metadata": {
    "jp-MarkdownHeadingCollapsed": true
   },
   "source": [
    "# evaluate"
   ]
  },
  {
   "cell_type": "code",
   "execution_count": null,
   "id": "e3fedced-92a6-4ab1-a358-bb643b0795fb",
   "metadata": {},
   "outputs": [],
   "source": [
    "from utils.evaluate import evaluate_asr"
   ]
  },
  {
   "cell_type": "code",
   "execution_count": 18,
   "id": "ad01718b-0355-4831-a3d7-424a86f8e927",
   "metadata": {
    "execution": {
     "iopub.execute_input": "2025-07-02T14:09:35.724779Z",
     "iopub.status.busy": "2025-07-02T14:09:35.724118Z",
     "iopub.status.idle": "2025-07-02T14:09:35.752987Z",
     "shell.execute_reply": "2025-07-02T14:09:35.751174Z",
     "shell.execute_reply.started": "2025-07-02T14:09:35.724725Z"
    }
   },
   "outputs": [
    {
     "data": {
      "text/plain": [
       "{'wer': 0.28858024691358025, 'cer': 0.07687231936654569}"
      ]
     },
     "execution_count": 18,
     "metadata": {},
     "output_type": "execute_result"
    }
   ],
   "source": [
    "evaluate_asr(result[\"normalized_transcription\"], result[\"predicted\"])"
   ]
  }
 ],
 "metadata": {
  "kernelspec": {
   "display_name": "Python 3 (ipykernel)",
   "language": "python",
   "name": "python3"
  },
  "language_info": {
   "codemirror_mode": {
    "name": "ipython",
    "version": 3
   },
   "file_extension": ".py",
   "mimetype": "text/x-python",
   "name": "python",
   "nbconvert_exporter": "python",
   "pygments_lexer": "ipython3",
   "version": "3.12.9"
  }
 },
 "nbformat": 4,
 "nbformat_minor": 5
}
