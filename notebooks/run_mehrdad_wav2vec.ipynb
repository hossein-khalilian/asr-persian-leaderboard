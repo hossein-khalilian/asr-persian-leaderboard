{
 "cells": [
  {
   "cell_type": "markdown",
   "id": "bd34343c-2617-462c-8809-de97b3bbbe18",
   "metadata": {},
   "source": [
    "# setup"
   ]
  },
  {
   "cell_type": "code",
   "execution_count": 3,
   "id": "ff9190d4-1c0d-4397-bdee-53208a379f20",
   "metadata": {
    "execution": {
     "iopub.execute_input": "2025-07-07T06:41:53.404496Z",
     "iopub.status.busy": "2025-07-07T06:41:53.403442Z",
     "iopub.status.idle": "2025-07-07T06:41:53.409387Z",
     "shell.execute_reply": "2025-07-07T06:41:53.408168Z",
     "shell.execute_reply.started": "2025-07-07T06:41:53.404457Z"
    }
   },
   "outputs": [],
   "source": [
    "# !pip install -r ../requirements.txt\n",
    "# !pip3 install torch torchvision torchaudio --index-url https://download.pytorch.org/whl/cu128"
   ]
  },
  {
   "cell_type": "code",
   "execution_count": 4,
   "id": "c6b1fd82-e13f-4e38-9fda-b8b6567a49e1",
   "metadata": {
    "execution": {
     "iopub.execute_input": "2025-07-07T06:42:01.957946Z",
     "iopub.status.busy": "2025-07-07T06:42:01.957560Z",
     "iopub.status.idle": "2025-07-07T06:42:02.464663Z",
     "shell.execute_reply": "2025-07-07T06:42:02.463369Z",
     "shell.execute_reply.started": "2025-07-07T06:42:01.957915Z"
    }
   },
   "outputs": [
    {
     "name": "stdout",
     "output_type": "stream",
     "text": [
      "Mon Jul  7 06:42:02 2025       \n",
      "+-----------------------------------------------------------------------------------------+\n",
      "| NVIDIA-SMI 570.124.06             Driver Version: 570.124.06     CUDA Version: 12.8     |\n",
      "|-----------------------------------------+------------------------+----------------------+\n",
      "| GPU  Name                 Persistence-M | Bus-Id          Disp.A | Volatile Uncorr. ECC |\n",
      "| Fan  Temp   Perf          Pwr:Usage/Cap |           Memory-Usage | GPU-Util  Compute M. |\n",
      "|                                         |                        |               MIG M. |\n",
      "|=========================================+========================+======================|\n",
      "|   0  NVIDIA GeForce RTX 3090        Off |   00000000:00:07.0 Off |                  N/A |\n",
      "| 30%   18C    P8              9W /  350W |       2MiB /  24576MiB |      0%      Default |\n",
      "|                                         |                        |                  N/A |\n",
      "+-----------------------------------------+------------------------+----------------------+\n",
      "                                                                                         \n",
      "+-----------------------------------------------------------------------------------------+\n",
      "| Processes:                                                                              |\n",
      "|  GPU   GI   CI              PID   Type   Process name                        GPU Memory |\n",
      "|        ID   ID                                                               Usage      |\n",
      "|=========================================================================================|\n",
      "|  No running processes found                                                             |\n",
      "+-----------------------------------------------------------------------------------------+\n"
     ]
    }
   ],
   "source": [
    "!nvidia-smi"
   ]
  },
  {
   "cell_type": "markdown",
   "id": "ec2399bc-466a-4b26-bff9-8bc68f17e9a3",
   "metadata": {},
   "source": [
    "# load dataset"
   ]
  },
  {
   "cell_type": "code",
   "execution_count": 1,
   "id": "8e0c979a-e2a9-42c9-95d3-218a37204d53",
   "metadata": {
    "execution": {
     "iopub.execute_input": "2025-07-07T06:45:35.274103Z",
     "iopub.status.busy": "2025-07-07T06:45:35.272882Z",
     "iopub.status.idle": "2025-07-07T06:45:39.638140Z",
     "shell.execute_reply": "2025-07-07T06:45:39.637312Z",
     "shell.execute_reply.started": "2025-07-07T06:45:35.274035Z"
    }
   },
   "outputs": [
    {
     "data": {
      "text/plain": [
       "Dataset({\n",
       "    features: ['client_id', 'path', 'sentence_id', 'sentence', 'sentence_domain', 'up_votes', 'down_votes', 'age', 'gender', 'accents', 'variant', 'locale', 'segment', 'audio', 'normalized_transcription'],\n",
       "    num_rows: 10676\n",
       "})"
      ]
     },
     "execution_count": 1,
     "metadata": {},
     "output_type": "execute_result"
    }
   ],
   "source": [
    "from datasets import load_dataset\n",
    "dataset = load_dataset(\"hsekhalilian/commonvoice\", split=\"dev\")\n",
    "# dataset = dataset.select(indices=range(100))\n",
    "dataset"
   ]
  },
  {
   "cell_type": "markdown",
   "id": "a331665a-7534-4a26-ae26-695d788149af",
   "metadata": {},
   "source": [
    "# load model"
   ]
  },
  {
   "cell_type": "code",
   "execution_count": 2,
   "id": "7cbdfcc6-c65d-4a5c-a02e-c9073f16cd0a",
   "metadata": {
    "execution": {
     "iopub.execute_input": "2025-07-07T06:45:39.639212Z",
     "iopub.status.busy": "2025-07-07T06:45:39.638949Z",
     "iopub.status.idle": "2025-07-07T06:45:44.084625Z",
     "shell.execute_reply": "2025-07-07T06:45:44.083665Z",
     "shell.execute_reply.started": "2025-07-07T06:45:39.639195Z"
    }
   },
   "outputs": [],
   "source": [
    "import torch\n",
    "from transformers import Wav2Vec2ForCTC, Wav2Vec2Processor"
   ]
  },
  {
   "cell_type": "code",
   "execution_count": 3,
   "id": "88924e03-e4b6-4321-89e0-89b4feadaff9",
   "metadata": {
    "execution": {
     "iopub.execute_input": "2025-07-07T06:45:44.085471Z",
     "iopub.status.busy": "2025-07-07T06:45:44.085126Z",
     "iopub.status.idle": "2025-07-07T06:45:44.227321Z",
     "shell.execute_reply": "2025-07-07T06:45:44.226329Z",
     "shell.execute_reply.started": "2025-07-07T06:45:44.085454Z"
    }
   },
   "outputs": [
    {
     "data": {
      "text/plain": [
       "device(type='cuda')"
      ]
     },
     "execution_count": 3,
     "metadata": {},
     "output_type": "execute_result"
    }
   ],
   "source": [
    "model_name_or_path = \"m3hrdadfi/wav2vec2-large-xlsr-persian-v3\"\n",
    "device = torch.device(\"cuda\" if torch.cuda.is_available() else \"cpu\")\n",
    "device"
   ]
  },
  {
   "cell_type": "code",
   "execution_count": 4,
   "id": "ae298118-476d-4efb-ad76-d83b1fb11423",
   "metadata": {
    "execution": {
     "iopub.execute_input": "2025-07-07T06:45:44.228651Z",
     "iopub.status.busy": "2025-07-07T06:45:44.228469Z",
     "iopub.status.idle": "2025-07-07T06:45:46.796969Z",
     "shell.execute_reply": "2025-07-07T06:45:46.795978Z",
     "shell.execute_reply.started": "2025-07-07T06:45:44.228622Z"
    }
   },
   "outputs": [
    {
     "name": "stderr",
     "output_type": "stream",
     "text": [
      "/opt/conda/lib/python3.12/site-packages/transformers/configuration_utils.py:309: UserWarning: Passing `gradient_checkpointing` to a config initialization is deprecated and will be removed in v5 Transformers. Using `model.gradient_checkpointing_enable()` instead, or if you are using the `Trainer` API, pass `gradient_checkpointing=True` in your `TrainingArguments`.\n",
      "  warnings.warn(\n"
     ]
    }
   ],
   "source": [
    "processor = Wav2Vec2Processor.from_pretrained(model_name_or_path)\n",
    "model = Wav2Vec2ForCTC.from_pretrained(model_name_or_path).to(device)"
   ]
  },
  {
   "cell_type": "markdown",
   "id": "52250a28-982a-408c-a5d5-bdf8612fcbc9",
   "metadata": {},
   "source": [
    "# predict"
   ]
  },
  {
   "cell_type": "code",
   "execution_count": 5,
   "id": "0e3bc2e1-515d-4c43-ac95-8a9b2f695028",
   "metadata": {
    "execution": {
     "iopub.execute_input": "2025-07-07T06:45:46.797826Z",
     "iopub.status.busy": "2025-07-07T06:45:46.797653Z",
     "iopub.status.idle": "2025-07-07T06:45:46.803334Z",
     "shell.execute_reply": "2025-07-07T06:45:46.802371Z",
     "shell.execute_reply.started": "2025-07-07T06:45:46.797809Z"
    }
   },
   "outputs": [],
   "source": [
    "import sys_append\n",
    "import numpy as np\n",
    "from utils.normalizer import persian_normalizer"
   ]
  },
  {
   "cell_type": "code",
   "execution_count": 6,
   "id": "86cec36b-b2c7-4cd0-b5f6-f59221338bc3",
   "metadata": {
    "execution": {
     "iopub.execute_input": "2025-07-07T06:45:46.804385Z",
     "iopub.status.busy": "2025-07-07T06:45:46.803918Z",
     "iopub.status.idle": "2025-07-07T06:45:46.809226Z",
     "shell.execute_reply": "2025-07-07T06:45:46.808642Z",
     "shell.execute_reply.started": "2025-07-07T06:45:46.804368Z"
    }
   },
   "outputs": [],
   "source": [
    "def predict(batch):\n",
    "    features = processor(\n",
    "        [sample[\"array\"] for sample in batch[\"audio\"]], \n",
    "        sampling_rate=processor.feature_extractor.sampling_rate, \n",
    "        return_tensors=\"pt\", \n",
    "        padding=True\n",
    "    )\n",
    "\n",
    "    input_values = features.input_values.to(device)\n",
    "    attention_mask = features.attention_mask.to(device)\n",
    "\n",
    "    with torch.no_grad():\n",
    "        logits = model(input_values, attention_mask=attention_mask).logits \n",
    "\n",
    "    pred_ids = torch.argmax(logits, dim=-1)\n",
    "\n",
    "    batch[\"prediction\"] = processor.batch_decode(pred_ids)\n",
    "    \n",
    "    return batch\n",
    "\n",
    "\n",
    "def normalize_prediction(example):\n",
    "    try:\n",
    "        example['normalized_prediction'] = persian_normalizer(example['prediction'])\n",
    "        return example\n",
    "    except:\n",
    "        return None"
   ]
  },
  {
   "cell_type": "code",
   "execution_count": 7,
   "id": "276f5280-21dc-4c46-a377-69b3ce53e3e1",
   "metadata": {
    "execution": {
     "iopub.execute_input": "2025-07-07T06:45:51.199259Z",
     "iopub.status.busy": "2025-07-07T06:45:51.198757Z",
     "iopub.status.idle": "2025-07-07T07:06:19.778151Z",
     "shell.execute_reply": "2025-07-07T07:06:19.777460Z",
     "shell.execute_reply.started": "2025-07-07T06:45:51.199224Z"
    }
   },
   "outputs": [
    {
     "name": "stderr",
     "output_type": "stream",
     "text": [
      "Parameter 'function'=<function predict at 0x79a7fa124720> of the transform datasets.arrow_dataset.Dataset._map_single couldn't be hashed properly, a random hash was used instead. Make sure your transforms and parameters are serializable with pickle or dill for the dataset fingerprinting and caching to work. If you reuse this transform, the caching mechanism will consider it to be different from the previous calls and recompute everything. This warning is only showed once. Subsequent hashing failures won't be showed.\n"
     ]
    },
    {
     "data": {
      "application/vnd.jupyter.widget-view+json": {
       "model_id": "3564b9dab5af494a859f7fbce170f007",
       "version_major": 2,
       "version_minor": 0
      },
      "text/plain": [
       "Map:   0%|          | 0/10676 [00:00<?, ? examples/s]"
      ]
     },
     "metadata": {},
     "output_type": "display_data"
    }
   ],
   "source": [
    "result = dataset.map(predict, batched=True, batch_size=64)"
   ]
  },
  {
   "cell_type": "code",
   "execution_count": 8,
   "id": "aaa787a1-6be2-49fe-acc9-afab97a28f6b",
   "metadata": {
    "execution": {
     "iopub.execute_input": "2025-07-07T07:06:19.779145Z",
     "iopub.status.busy": "2025-07-07T07:06:19.778963Z",
     "iopub.status.idle": "2025-07-07T07:06:19.785147Z",
     "shell.execute_reply": "2025-07-07T07:06:19.784443Z",
     "shell.execute_reply.started": "2025-07-07T07:06:19.779129Z"
    }
   },
   "outputs": [
    {
     "data": {
      "text/plain": [
       "Dataset({\n",
       "    features: ['client_id', 'path', 'sentence_id', 'sentence', 'sentence_domain', 'up_votes', 'down_votes', 'age', 'gender', 'accents', 'variant', 'locale', 'segment', 'audio', 'normalized_transcription', 'prediction'],\n",
       "    num_rows: 10676\n",
       "})"
      ]
     },
     "execution_count": 8,
     "metadata": {},
     "output_type": "execute_result"
    }
   ],
   "source": [
    "result"
   ]
  },
  {
   "cell_type": "markdown",
   "id": "67fd2a79-5ed5-49cb-b40a-8163efea3e08",
   "metadata": {},
   "source": [
    "# evaluate"
   ]
  },
  {
   "cell_type": "code",
   "execution_count": 9,
   "id": "e3fedced-92a6-4ab1-a358-bb643b0795fb",
   "metadata": {
    "execution": {
     "iopub.execute_input": "2025-07-07T07:06:19.786040Z",
     "iopub.status.busy": "2025-07-07T07:06:19.785798Z",
     "iopub.status.idle": "2025-07-07T07:06:19.841610Z",
     "shell.execute_reply": "2025-07-07T07:06:19.841021Z",
     "shell.execute_reply.started": "2025-07-07T07:06:19.786017Z"
    }
   },
   "outputs": [],
   "source": [
    "from utils.evaluate import evaluate_asr"
   ]
  },
  {
   "cell_type": "code",
   "execution_count": 11,
   "id": "ad01718b-0355-4831-a3d7-424a86f8e927",
   "metadata": {
    "execution": {
     "iopub.execute_input": "2025-07-07T07:09:58.417366Z",
     "iopub.status.busy": "2025-07-07T07:09:58.416937Z",
     "iopub.status.idle": "2025-07-07T07:09:59.219443Z",
     "shell.execute_reply": "2025-07-07T07:09:59.218792Z",
     "shell.execute_reply.started": "2025-07-07T07:09:58.417332Z"
    }
   },
   "outputs": [
    {
     "data": {
      "text/plain": [
       "{'wer': 0.31191391970501287, 'cer': 0.07564881281060187}"
      ]
     },
     "execution_count": 11,
     "metadata": {},
     "output_type": "execute_result"
    }
   ],
   "source": [
    "evaluate_asr(result[\"normalized_transcription\"], result[\"prediction\"])"
   ]
  },
  {
   "cell_type": "code",
   "execution_count": 12,
   "id": "42d867de-863a-4de1-af72-8eb581ac2846",
   "metadata": {
    "execution": {
     "iopub.execute_input": "2025-07-07T07:10:10.967175Z",
     "iopub.status.busy": "2025-07-07T07:10:10.966373Z",
     "iopub.status.idle": "2025-07-07T07:10:11.150075Z",
     "shell.execute_reply": "2025-07-07T07:10:11.149297Z",
     "shell.execute_reply.started": "2025-07-07T07:10:10.967137Z"
    }
   },
   "outputs": [
    {
     "data": {
      "text/plain": [
       "0.32022248708780293"
      ]
     },
     "execution_count": 12,
     "metadata": {},
     "output_type": "execute_result"
    }
   ],
   "source": [
    "from jiwer import wer\n",
    "wer(result[\"sentence\"], result[\"prediction\"])"
   ]
  },
  {
   "cell_type": "code",
   "execution_count": null,
   "id": "d0dd2645-8cd4-4df1-8faa-9020029098a7",
   "metadata": {},
   "outputs": [],
   "source": []
  }
 ],
 "metadata": {
  "kernelspec": {
   "display_name": "Python 3 (ipykernel)",
   "language": "python",
   "name": "python3"
  },
  "language_info": {
   "codemirror_mode": {
    "name": "ipython",
    "version": 3
   },
   "file_extension": ".py",
   "mimetype": "text/x-python",
   "name": "python",
   "nbconvert_exporter": "python",
   "pygments_lexer": "ipython3",
   "version": "3.12.9"
  }
 },
 "nbformat": 4,
 "nbformat_minor": 5
}
