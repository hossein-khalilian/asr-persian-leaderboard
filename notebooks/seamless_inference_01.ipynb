{
 "cells": [
  {
   "cell_type": "code",
   "execution_count": 2,
   "id": "56e97060-f49d-4655-a615-b9bc96288e48",
   "metadata": {
    "execution": {
     "iopub.execute_input": "2025-07-13T11:24:35.388794Z",
     "iopub.status.busy": "2025-07-13T11:24:35.388337Z",
     "iopub.status.idle": "2025-07-13T11:24:37.306028Z",
     "shell.execute_reply": "2025-07-13T11:24:37.305259Z",
     "shell.execute_reply.started": "2025-07-13T11:24:35.388756Z"
    }
   },
   "outputs": [],
   "source": [
    "import torch\n",
    "from seamless_communication.inference import Translator"
   ]
  },
  {
   "cell_type": "code",
   "execution_count": 3,
   "id": "3c97a4b1-b4ea-4111-ac2d-e1fbab762625",
   "metadata": {
    "execution": {
     "iopub.execute_input": "2025-07-13T11:24:37.307412Z",
     "iopub.status.busy": "2025-07-13T11:24:37.307004Z",
     "iopub.status.idle": "2025-07-13T11:24:48.775720Z",
     "shell.execute_reply": "2025-07-13T11:24:48.774731Z",
     "shell.execute_reply.started": "2025-07-13T11:24:37.307392Z"
    }
   },
   "outputs": [
    {
     "name": "stderr",
     "output_type": "stream",
     "text": [
      "Using the cached checkpoint of seamlessM4T_large. Set `force` to `True` to download again.\n",
      "Using the cached tokenizer of seamlessM4T_large. Set `force` to `True` to download again.\n",
      "Using the cached checkpoint of vocoder_36langs. Set `force` to `True` to download again.\n",
      "/opt/conda/envs/py310/lib/python3.10/site-packages/torch/nn/utils/weight_norm.py:28: UserWarning: torch.nn.utils.weight_norm is deprecated in favor of torch.nn.utils.parametrizations.weight_norm.\n",
      "  warnings.warn(\"torch.nn.utils.weight_norm is deprecated in favor of torch.nn.utils.parametrizations.weight_norm.\")\n"
     ]
    }
   ],
   "source": [
    "translator = Translator(\n",
    "    model_name_or_card=\"seamlessM4T_large\",\n",
    "    vocoder_name_or_card=\"vocoder_36langs\",\n",
    "    device=torch.device(\"cuda:0\"),\n",
    "    dtype=torch.float32\n",
    ")"
   ]
  },
  {
   "cell_type": "code",
   "execution_count": 5,
   "id": "caea4dc7-3d30-4ec0-9fcc-49a7142e95a4",
   "metadata": {
    "execution": {
     "iopub.execute_input": "2025-07-13T11:25:00.709682Z",
     "iopub.status.busy": "2025-07-13T11:25:00.709141Z",
     "iopub.status.idle": "2025-07-13T11:25:00.718915Z",
     "shell.execute_reply": "2025-07-13T11:25:00.717343Z",
     "shell.execute_reply.started": "2025-07-13T11:25:00.709613Z"
    }
   },
   "outputs": [
    {
     "data": {
      "text/plain": [
       "<generator object Module.parameters at 0x73f3d94bdf50>"
      ]
     },
     "execution_count": 5,
     "metadata": {},
     "output_type": "execute_result"
    }
   ],
   "source": [
    "translator.parameters()"
   ]
  },
  {
   "cell_type": "code",
   "execution_count": 6,
   "id": "82db981a-c032-46a3-956d-7c6b49a9daf2",
   "metadata": {
    "execution": {
     "iopub.execute_input": "2025-07-13T11:27:00.223118Z",
     "iopub.status.busy": "2025-07-13T11:27:00.222834Z",
     "iopub.status.idle": "2025-07-13T11:27:00.236754Z",
     "shell.execute_reply": "2025-07-13T11:27:00.235652Z",
     "shell.execute_reply.started": "2025-07-13T11:27:00.223099Z"
    }
   },
   "outputs": [
    {
     "data": {
      "text/plain": [
       "(2632.57,)"
      ]
     },
     "execution_count": 6,
     "metadata": {},
     "output_type": "execute_result"
    }
   ],
   "source": [
    "    round(sum(p.numel() for p in translator.parameters()) / 1e6, 2),"
   ]
  },
  {
   "cell_type": "code",
   "execution_count": 29,
   "id": "53b8a864-d3fc-4889-9bb4-6e54eeb899d9",
   "metadata": {
    "execution": {
     "iopub.execute_input": "2025-07-13T10:57:38.639454Z",
     "iopub.status.busy": "2025-07-13T10:57:38.638999Z",
     "iopub.status.idle": "2025-07-13T10:57:38.901372Z",
     "shell.execute_reply": "2025-07-13T10:57:38.900411Z",
     "shell.execute_reply.started": "2025-07-13T10:57:38.639415Z"
    }
   },
   "outputs": [
    {
     "data": {
      "text/plain": [
       "'نه یه وسیله ی سرگرمی که'"
      ]
     },
     "execution_count": 29,
     "metadata": {},
     "output_type": "execute_result"
    }
   ],
   "source": [
    "text_output, speech_output = translator.predict(\n",
    "    input=\"/home/jovyan/.cache/datasets/hsekhalilian___commonvoice/audio_files/common_voice_fa_18209607.flac\",\n",
    "    task_str=\"ASR\",\n",
    "    tgt_lang=\"pes\",\n",
    ")\n",
    "\n",
    "str(text_output[0])"
   ]
  },
  {
   "cell_type": "code",
   "execution_count": 31,
   "id": "184e0f32-3f3f-44d9-b67a-1e4cdd456889",
   "metadata": {
    "execution": {
     "iopub.execute_input": "2025-07-13T11:02:38.925527Z",
     "iopub.status.busy": "2025-07-13T11:02:38.924999Z",
     "iopub.status.idle": "2025-07-13T11:02:38.932129Z",
     "shell.execute_reply": "2025-07-13T11:02:38.930575Z",
     "shell.execute_reply.started": "2025-07-13T11:02:38.925431Z"
    }
   },
   "outputs": [],
   "source": [
    "speech_output"
   ]
  }
 ],
 "metadata": {
  "kernelspec": {
   "display_name": "Python 3 (ipykernel)",
   "language": "python",
   "name": "python3"
  },
  "language_info": {
   "codemirror_mode": {
    "name": "ipython",
    "version": 3
   },
   "file_extension": ".py",
   "mimetype": "text/x-python",
   "name": "python",
   "nbconvert_exporter": "python",
   "pygments_lexer": "ipython3",
   "version": "3.12.9"
  }
 },
 "nbformat": 4,
 "nbformat_minor": 5
}
