{
 "cells": [
  {
   "cell_type": "markdown",
   "id": "49cb5013-2a4b-472e-9fb3-2faef29e1bc1",
   "metadata": {
    "jp-MarkdownHeadingCollapsed": true
   },
   "source": [
    "# setup"
   ]
  },
  {
   "cell_type": "code",
   "execution_count": 1,
   "id": "01d88523-032f-4f3f-8685-7f4825509806",
   "metadata": {
    "execution": {
     "iopub.execute_input": "2025-07-12T08:50:11.743111Z",
     "iopub.status.busy": "2025-07-12T08:50:11.742933Z",
     "iopub.status.idle": "2025-07-12T08:50:11.745586Z",
     "shell.execute_reply": "2025-07-12T08:50:11.745214Z",
     "shell.execute_reply.started": "2025-07-12T08:50:11.743097Z"
    }
   },
   "outputs": [],
   "source": [
    "# !conda create -n py310 python=3.10 -y\n",
    "# %pip install ipykernel\n",
    "# !python -m ipykernel install --user --name=py310"
   ]
  },
  {
   "cell_type": "code",
   "execution_count": 4,
   "id": "ae710085-2f0e-4cb2-897a-acdf2be415ae",
   "metadata": {
    "execution": {
     "iopub.execute_input": "2025-07-12T08:50:57.253401Z",
     "iopub.status.busy": "2025-07-12T08:50:57.253176Z",
     "iopub.status.idle": "2025-07-12T08:50:57.256414Z",
     "shell.execute_reply": "2025-07-12T08:50:57.255914Z",
     "shell.execute_reply.started": "2025-07-12T08:50:57.253384Z"
    }
   },
   "outputs": [],
   "source": [
    "# %pip install ipywidgets\n",
    "# %pip install -r ../requirements.txt\n",
    "# %pip install dataoceanai-dolphin"
   ]
  },
  {
   "cell_type": "markdown",
   "id": "eb913b9c-10a9-479e-845e-22cf12efd3e3",
   "metadata": {
    "jp-MarkdownHeadingCollapsed": true
   },
   "source": [
    "# create dataset"
   ]
  },
  {
   "cell_type": "code",
   "execution_count": 15,
   "id": "76828217-ac09-4f54-abcf-fab3246334ba",
   "metadata": {
    "execution": {
     "iopub.execute_input": "2025-07-12T09:18:16.255038Z",
     "iopub.status.busy": "2025-07-12T09:18:16.254815Z",
     "iopub.status.idle": "2025-07-12T09:18:16.619654Z",
     "shell.execute_reply": "2025-07-12T09:18:16.619179Z",
     "shell.execute_reply.started": "2025-07-12T09:18:16.255022Z"
    }
   },
   "outputs": [],
   "source": [
    "import os\n",
    "import json\n",
    "import torch\n",
    "import torchaudio\n",
    "from datasets import load_dataset"
   ]
  },
  {
   "cell_type": "code",
   "execution_count": 16,
   "id": "8d9f2498-4def-4948-a780-7ba54a5cd8e1",
   "metadata": {
    "execution": {
     "iopub.execute_input": "2025-07-12T09:18:17.545510Z",
     "iopub.status.busy": "2025-07-12T09:18:17.544439Z",
     "iopub.status.idle": "2025-07-12T09:18:18.707169Z",
     "shell.execute_reply": "2025-07-12T09:18:18.706718Z",
     "shell.execute_reply.started": "2025-07-12T09:18:17.545489Z"
    }
   },
   "outputs": [],
   "source": [
    "dataset = load_dataset(\"hsekhalilian/commonvoice\", split=\"dev\")\n",
    "dataset = dataset.select(range(100))"
   ]
  },
  {
   "cell_type": "code",
   "execution_count": 17,
   "id": "47018617-e266-4d8c-a0e1-d143b5c89559",
   "metadata": {
    "execution": {
     "iopub.execute_input": "2025-07-12T09:18:19.505387Z",
     "iopub.status.busy": "2025-07-12T09:18:19.505168Z",
     "iopub.status.idle": "2025-07-12T09:18:19.936752Z",
     "shell.execute_reply": "2025-07-12T09:18:19.936265Z",
     "shell.execute_reply.started": "2025-07-12T09:18:19.505370Z"
    }
   },
   "outputs": [],
   "source": [
    "output_dir = os.path.expanduser(\"~/.cache/datasets/commonvoice/audio_files/\")\n",
    "os.makedirs(output_dir, exist_ok=True)\n",
    "\n",
    "output_manifest = os.path.join(output_dir, \"..\", \"dev_manifest.json\")\n",
    "target_sr = 16000\n",
    "\n",
    "\n",
    "with open(output_manifest, \"w\") as fout:\n",
    "    for sample in dataset:\n",
    "        text = sample[\"sentence\"]\n",
    "        \n",
    "        audio_path = sample[\"audio\"][\"path\"]\n",
    "        audio_path = audio_path.strip(\"/\").split(\"/\")[-1]\n",
    "        output_audio_path = os.path.join(output_dir, audio_path)\n",
    "        \n",
    "        waveform, sr = torch.tensor(sample[\"audio\"][\"array\"]).unsqueeze(0), sample[\"audio\"][\"sampling_rate\"]\n",
    "\n",
    "        \n",
    "        if sr != target_sr:\n",
    "            resampler = torchaudio.transforms.Resample(orig_freq=sr, new_freq=target_sr)\n",
    "            waveform = resampler(waveform)\n",
    "            sr = target_sr\n",
    "\n",
    "        torchaudio.save(output_audio_path, waveform, sr)\n",
    "\n",
    "        duration = waveform.shape[1] / sr\n",
    "\n",
    "        fout.write(json.dumps({\n",
    "            \"audio_filepath\": os.path.abspath(output_audio_path),\n",
    "            \"duration\": duration,\n",
    "            \"text\": text\n",
    "        }) + \"\\n\")"
   ]
  },
  {
   "cell_type": "markdown",
   "id": "b0ddc72a-8277-4809-82a6-41e04e9535db",
   "metadata": {
    "execution": {
     "iopub.execute_input": "2025-07-09T11:27:37.328012Z",
     "iopub.status.busy": "2025-07-09T11:27:37.327673Z",
     "iopub.status.idle": "2025-07-09T11:27:37.336346Z",
     "shell.execute_reply": "2025-07-09T11:27:37.335752Z",
     "shell.execute_reply.started": "2025-07-09T11:27:37.327983Z"
    }
   },
   "source": [
    "# inference"
   ]
  },
  {
   "cell_type": "code",
   "execution_count": null,
   "id": "12c25d20-65df-4a4c-9218-16ff43e4d04a",
   "metadata": {
    "execution": {
     "iopub.execute_input": "2025-07-12T09:20:09.657245Z",
     "iopub.status.busy": "2025-07-12T09:20:09.656730Z",
     "iopub.status.idle": "2025-07-12T09:20:13.055198Z",
     "shell.execute_reply": "2025-07-12T09:20:13.054620Z",
     "shell.execute_reply.started": "2025-07-12T09:20:09.657226Z"
    }
   },
   "outputs": [],
   "source": [
    "import os\n",
    "import json\n",
    "import dolphin\n",
    "from tqdm import tqdm\n",
    "from jiwer import wer\n",
    "from huggingface_hub import snapshot_download"
   ]
  },
  {
   "cell_type": "code",
   "execution_count": 41,
   "id": "e9f18f08-45be-4d47-a1ec-a8b0807c4908",
   "metadata": {
    "execution": {
     "iopub.execute_input": "2025-07-12T10:18:09.247139Z",
     "iopub.status.busy": "2025-07-12T10:18:09.246799Z",
     "iopub.status.idle": "2025-07-12T10:18:15.483758Z",
     "shell.execute_reply": "2025-07-12T10:18:15.483175Z",
     "shell.execute_reply.started": "2025-07-12T10:18:09.247105Z"
    }
   },
   "outputs": [
    {
     "data": {
      "application/vnd.jupyter.widget-view+json": {
       "model_id": "a25883cfc7d049c8823bee3ce919f7ee",
       "version_major": 2,
       "version_minor": 0
      },
      "text/plain": [
       "Fetching 6 files:   0%|          | 0/6 [00:00<?, ?it/s]"
      ]
     },
     "metadata": {},
     "output_type": "display_data"
    },
    {
     "name": "stderr",
     "output_type": "stream",
     "text": [
      "[2025-07-12 10:18:15,345] [INFO] [model.py:166:__init__] BatchBeamSearch implementation is selected.\n",
      "[2025-07-12 10:18:15,351] [INFO] [model.py:177:__init__] Decoding device=cuda, dtype=float32\n",
      "[2025-07-12 10:18:15,358] [INFO] [model.py:182:__init__] Text tokenizer: SentencepiecesTokenizer(model=\"/opt/conda/envs/py310/lib/python3.10/site-packages/dolphin/assets/bpe.model\")\n"
     ]
    }
   ],
   "source": [
    "model_name = \"small\"\n",
    "model_dir = snapshot_download(repo_id=f\"DataoceanAI/dolphin-{model_name}\")\n",
    "\n",
    "model = dolphin.load_model(model_name, model_dir, \"cuda\")"
   ]
  },
  {
   "cell_type": "code",
   "execution_count": 42,
   "id": "608cd735-42f3-4447-9917-325057ed128c",
   "metadata": {
    "execution": {
     "iopub.execute_input": "2025-07-12T10:18:16.754535Z",
     "iopub.status.busy": "2025-07-12T10:18:16.754306Z",
     "iopub.status.idle": "2025-07-12T10:18:59.168986Z",
     "shell.execute_reply": "2025-07-12T10:18:59.168427Z",
     "shell.execute_reply.started": "2025-07-12T10:18:16.754518Z"
    }
   },
   "outputs": [
    {
     "name": "stderr",
     "output_type": "stream",
     "text": [
      "100%|██████████| 100/100 [00:42<00:00,  2.36it/s]"
     ]
    },
    {
     "name": "stdout",
     "output_type": "stream",
     "text": [
      "\n",
      "WER: 33.02%\n"
     ]
    },
    {
     "name": "stderr",
     "output_type": "stream",
     "text": [
      "\n"
     ]
    }
   ],
   "source": [
    "manifest_path = os.path.expanduser(\"~/.cache/datasets/commonvoice/dev_manifest.json\")\n",
    "\n",
    "audio_files = []\n",
    "references = []\n",
    "predictions = []\n",
    "\n",
    "with open(manifest_path, \"r\", encoding=\"utf-8\") as f:\n",
    "    for line in f:\n",
    "        entry = json.loads(line)\n",
    "        audio_files.append(entry[\"audio_filepath\"])\n",
    "        references.append(entry[\"text\"])\n",
    "\n",
    "for audio_file in tqdm(audio_files):\n",
    "    waveform = dolphin.load_audio(audio_file)\n",
    "    result = model(waveform, lang_sym=\"fa\", region_sym=\"IR\")\n",
    "    predictions.append(result.text_nospecial)\n",
    "        \n",
    "error_rate = wer(references, predictions)\n",
    "print(f\"\\nWER: {error_rate:.2%}\")"
   ]
  },
  {
   "cell_type": "code",
   "execution_count": 44,
   "id": "1b463f4d-adee-47b6-b88e-4ebe13d6c93d",
   "metadata": {
    "execution": {
     "iopub.execute_input": "2025-07-12T10:25:54.994226Z",
     "iopub.status.busy": "2025-07-12T10:25:54.993604Z",
     "iopub.status.idle": "2025-07-12T10:25:55.000471Z",
     "shell.execute_reply": "2025-07-12T10:25:54.999926Z",
     "shell.execute_reply.started": "2025-07-12T10:25:54.994207Z"
    }
   },
   "outputs": [
    {
     "name": "stdout",
     "output_type": "stream",
     "text": [
      "reference: این اولین قدم برای تغییر خودم\n",
      "predicted: این اولین قدم برای تغییر خودم\n",
      "------------------------------\n",
      "reference: با خنده ای ترسناک چرا وحشت کردین؟ چرا تهمت می زنی؟\n",
      "predicted: با خندهی ترسناک چرا وحشت کردین؟ چرا تهمت میزنین؟\n",
      "------------------------------\n",
      "reference: من همه جا دنبالت گشتم\n",
      "predicted: من و همه جا دنبالت گشتم.\n",
      "------------------------------\n",
      "reference: افسانهها میگن سگها واسطهی دنیای زندهها با مردههان\n",
      "predicted: افسانهها میگن سگها و ستار دنیای زندهها با مردهان\n",
      "------------------------------\n",
      "reference: فكر می کنم همین جا باید تمومش کنیم\n",
      "predicted: فکر میکنم همینجا باید تمومش کنیم.\n",
      "------------------------------\n",
      "reference: اَفراسیاب\n",
      "predicted: افرا سیاب\n",
      "------------------------------\n",
      "reference: طاهره چی بهش گفتی رنگش پرید\n",
      "predicted: تا هرچی بهش گفتی رنگس برید؟\n",
      "------------------------------\n",
      "reference: من شبا خواب میبینم که سگها به هم حمله میکنن\n",
      "predicted: من شبا خواب میبینم که سگا بهم حمله میکنی\n",
      "------------------------------\n",
      "reference: از وقتی که فقط پنج سالت بود وضع همین بود\n",
      "predicted: از وقتی که فقط پنج سالت بود و از همین بود.\n",
      "------------------------------\n",
      "reference: دانیال به سمت وان میرود\n",
      "predicted: دنیال به سمت وام میرود.\n",
      "------------------------------\n",
      "reference: برای کسایی که تنها زندگی میکنن بهترین همدم گل و گیاهه سرگرمشون میکنه\n",
      "predicted: برای کسیک تنها زندگی میکنن بهترین همدم گل و گیاه سرگرمشون میکنن\n",
      "------------------------------\n",
      "reference: اگه شرایط بد شد یه تیر بزن توی کتف راستت اینجوری مجبورن برگردوننت عقب\n",
      "predicted: اگه شرایط بند شد یه چی بزن توی یه ترس اینجوری مجبورها برگردوننت ارم\n",
      "------------------------------\n",
      "reference: شنید\n",
      "predicted: شانید\n",
      "------------------------------\n",
      "reference: بخورن، گوشت قرمز، پروتئین توی این گرما اُور می پوشه\n",
      "predicted: بخورم گوشت قرمز پرترین توی این گرما اوور میپوسه\n",
      "------------------------------\n",
      "reference: خود را از وان بیرون می کشد و کنار وان مینشیند\n",
      "predicted: خود را از لام بیرون میکشد و کنار بان مینشیند.\n",
      "------------------------------\n",
      "reference: هیچ وقت زیر قولت نزن من از آدمای بدقول بدم مییاد\n",
      "predicted: هیچوقت زیر قولت نظر و از آدمای بدقول بدم میاد.\n",
      "------------------------------\n",
      "reference: پدر از تخت پایین میآید عصا را باز میکند\n",
      "predicted: پدر از سخت پایی میآید عصا را باز میکند.\n",
      "------------------------------\n",
      "reference: وظیفت چیه؟ خوردن و خوابیدن؟ این جلف بازیا رو بزار کنار به فکر یه لقمه نون باش.\n",
      "predicted: وظیفت چیه خوردن و خوابیدن این جلد بازیارو بذار کنار به فکرهای لقمه نون باش\n",
      "------------------------------\n",
      "reference: من باید باهات حرف بزنم\n",
      "predicted: من باید باهات حرف بجنم.\n",
      "------------------------------\n",
      "reference: می خواد استفاده کنه ؟\n",
      "predicted: میخواد استفاده کنه؟\n",
      "------------------------------\n",
      "reference: لطفاً صبحانه ام را ساعت هفت بفرستید.\n",
      "predicted: لطفا صبحانه ام را ساعت هفت بفرستید.\n",
      "------------------------------\n",
      "reference: من هر چیزی شما توصیه کنید می خورم.\n",
      "predicted: من هر چیزی شما توصیه میکنید میخورم.\n",
      "------------------------------\n",
      "reference: شب فوق العاده ای است.\n",
      "predicted: شب فوق العادهی است.\n",
      "------------------------------\n",
      "reference: من با یک ماشین تصادف کرده ام.\n",
      "predicted: من با یک ماشین تصادف کرده ام.\n",
      "------------------------------\n",
      "reference: بخش مواد غذایی در کدام طبقه است؟\n",
      "predicted: بخش مواد غذایی در کدام طبقه است؟\n",
      "------------------------------\n",
      "reference: در این میان هیچ کسی به کیف های شما دسترسی داشته است؟\n",
      "predicted: در این میان هیچکسی به کیفهای شما دسترسی داشته است.\n",
      "------------------------------\n",
      "reference: آمده ام کامپیوترم را بگیرم.\n",
      "predicted: آمدم کامپیوترم را بگیرم.\n",
      "------------------------------\n",
      "reference: آیا می تواند دوباره صادر شود؟\n",
      "predicted: آیا میتواند دوباره صادر شود؟\n",
      "------------------------------\n",
      "reference: من فقط خیلی کم هلندی صحبت می کنم.\n",
      "predicted: من فقط خیلی کم هلندی صحبت میکنم.\n",
      "------------------------------\n",
      "reference: زندگی آپارتمانی\n",
      "predicted: زندگی آپارتمانی\n",
      "------------------------------\n",
      "reference: برگها از درختان آویزان بودند.\n",
      "predicted: برگها از درختان آویزان بودم.\n",
      "------------------------------\n",
      "reference: استتار ما را آشکار کردند.\n",
      "predicted: استطار ما را آشکار کردند.\n",
      "------------------------------\n",
      "reference: تازه از دانشگاه درآمده بودم و دلم برای مسافرت لک میزد.\n",
      "predicted: تازه از دانشگاه درآمده بودم و دلم برای مسافرت لک میزد.\n",
      "------------------------------\n",
      "reference: ساتن پارچهای نرم و براق است.\n",
      "predicted: ساطن پارچهی نرم و برراق است.\n",
      "------------------------------\n",
      "reference: حرفهای حاکی از نومیدی او\n",
      "predicted: حرفهای حاکی از ناامیدی او\n",
      "------------------------------\n",
      "reference: او خیلی به خودش مینازد.\n",
      "predicted: او خیلی به خودش مینازد.\n",
      "------------------------------\n",
      "reference: به مصداق\n",
      "predicted: بمستا\n",
      "------------------------------\n",
      "reference: به خاطر حسادت\n",
      "predicted: بخاطر حسادت\n",
      "------------------------------\n",
      "reference: حساب راکد\n",
      "predicted: حساب راکت\n",
      "------------------------------\n",
      "reference: متاسفانه نمیتوانم بروم.\n",
      "predicted: متاسفانه نمیتوانم بروم\n",
      "------------------------------\n",
      "reference: او هنوز از نظر حرفهای به جایی نرسیده است.\n",
      "predicted: او هنوز از نظر حرفهای به جایی نرسیده است.\n",
      "------------------------------\n",
      "reference: خروش جنگ\n",
      "predicted: گونه شجاع\n",
      "------------------------------\n",
      "reference: رودررویی مصممانه\n",
      "predicted: رو درویی مصممانه\n",
      "------------------------------\n",
      "reference: ولی دیگر لگو نخواهد بود.\n",
      "predicted: ولی دیگر لگو نخواهد بود.\n",
      "------------------------------\n",
      "reference: لینوکس چند سالی بیشتر نیست که به شکل جدی وارد دنیای دسکتاپ شده است.\n",
      "predicted: لینوکس چندسالی بیشتر نیست که به شکل جدی وارد دنیای دسکتاب شده است.\n",
      "------------------------------\n",
      "reference: تو بدری و خورشید تو را بنده شدهست\n",
      "predicted: تو بدری و خورشید تو را بنده شده است.\n",
      "------------------------------\n",
      "reference: بخصوص اگر این دوچرخه اول شما است، زیاد هزینه نکنید.\n",
      "predicted: به خصوصا گرین دوچرخه اول شماست زیاد هزینه نکنید.\n",
      "------------------------------\n",
      "reference: دوچرخه ابزاری فوق العاده است.\n",
      "predicted: تو چرخه ابزاری فوق العاده است.\n",
      "------------------------------\n",
      "reference: شکل بدنه و زوایای قرار گیری بدن، فاکتور اول مشخص کننده راحتی هستند.\n",
      "predicted: شکل بدنه و زوایای قراری بدن فاکتور اول مشخص کنندهی راحتی هستند.\n",
      "------------------------------\n",
      "reference: یادگیری زبان برنامه نویسی مانند یادگیری نوشتن یک زبان واقعی است.\n",
      "predicted: یادگیری زبان برنامه نویسیم مانند یادگیری نوشتن یک زبان واقعی است.\n",
      "------------------------------\n",
      "reference: این مشکل حالا تا حد زیادی مرتفع شده.\n",
      "predicted: این مشکل حالا تا حد زیادی مرتفع شده\n",
      "------------------------------\n",
      "reference: زمان شما،\n",
      "predicted: زمان شما\n",
      "------------------------------\n",
      "reference: زبانهای دیگری هستند که ارزش خاصی برای هکرها دارند.\n",
      "predicted: زبانهای دیگری هستند که ارزش خاصی برای هکرها دارند.\n",
      "------------------------------\n",
      "reference: بخصوص وقتی مطمئن نیستید کدامش برای شما بهتر است.\n",
      "predicted: به خصوص وقتی مطمئن نیستید کدامش برای شما بهتر است.\n",
      "------------------------------\n",
      "reference: خوشبختانه ایران هنوز جزو این جاها نیست.\n",
      "predicted: خوشبختانه ایران هنوز جزو این جهانیست.\n",
      "------------------------------\n",
      "reference: آنها بعد از ماه ها و حتی سال ها که از شما خبری ندارند\n",
      "predicted: آنها بعد از ماهها و حتی سالها که از شما خبری ندارند.\n",
      "------------------------------\n",
      "reference: حال من خوب است اما با تو بهتر میشوم\n",
      "predicted: حال من خوب است اما با تو بهتر میشوم.\n",
      "------------------------------\n",
      "reference: نه شغلی، نه دوست پسری\n",
      "predicted: نه شغلی نه دوست پسری\n",
      "------------------------------\n",
      "reference: ال:برای اون سه تا مانتو،سه تا کیف و کفش و روسری جدا بگیرم\n",
      "predicted: ال، برای اون سه تامانتو سه تا کیف و کفش روسری جدا بگیرم.\n",
      "------------------------------\n",
      "reference: اون هنوز متوجه نشده\n",
      "predicted: اون هنوز متوجه نشده\n",
      "------------------------------\n",
      "reference: تا دستم را برای برداشتن یکی از سیگارهایش دراز کردم مچم را گرفت.\n",
      "predicted: تا دستم را برای برداشتن یکی از سیگارهای اشتراز کردم، مچم را گرفت.\n",
      "------------------------------\n",
      "reference: اسب زیر بار سنگین میلنگید.\n",
      "predicted: اسب زیر بار سنگین میلنگید.\n",
      "------------------------------\n",
      "reference: آن شغل را به خاطر توصیهی شما بدست آورد.\n",
      "predicted: آن شغل را به خاطر توصیهی شما به دست آود.\n",
      "------------------------------\n",
      "reference: نظریه شمادر این باب چیست\n",
      "predicted: نظریهی شما در این باب چیست؟\n",
      "------------------------------\n",
      "reference: برخی تشکها فنر دارند.\n",
      "predicted: برخی تشکها فنر دارند.\n",
      "------------------------------\n",
      "reference: پس از سی سال زحمت شاهنامه را تمام کرد.\n",
      "predicted: پس از سی سال زحمت شاهنامه را تمام کرد.\n",
      "------------------------------\n",
      "reference: اصول بنیادی علوم و ادبیات\n",
      "predicted: اصول بنیادی علوم و ادبیات\n",
      "------------------------------\n",
      "reference: آنها مطیعانه به محل اعدام خود رفتند.\n",
      "predicted: آنها مطیعانه به محل اعدام خود رفتند.\n",
      "------------------------------\n",
      "reference: هر وقت دلم می گرفت\n",
      "predicted: هر وقت دلم میگرفت.\n",
      "------------------------------\n",
      "reference: نقل شده\n",
      "predicted: نهقل شده.\n",
      "------------------------------\n",
      "reference: متصاعد\n",
      "predicted: متساعد\n",
      "------------------------------\n",
      "reference: آیا من یه احمق هستم؟\n",
      "predicted: آیا من این احمق هستم؟\n",
      "------------------------------\n",
      "reference: و روشی که پول در میآورند، روشی که ارزش خلق میکنند،\n",
      "predicted: و روشی که پول در میآورند، روشی که ازش خلق میکنند.\n",
      "------------------------------\n",
      "reference: اول آنکه چه اتفاقی افتاد؟\n",
      "predicted: اولا که چه اتفاقی افتاد؟\n",
      "------------------------------\n",
      "reference: دنیای سگا خیلی باحاله\n",
      "predicted: دنیای سگا خیلی باحاله\n",
      "------------------------------\n",
      "reference: بله بله ، مانیکا لاغره\n",
      "predicted: بله بله مانیکلاغر\n",
      "------------------------------\n",
      "reference: بدمیگم؟\n",
      "predicted: بعد میگه\n",
      "------------------------------\n",
      "reference: چطور فهمیدی من اینجام؟\n",
      "predicted: چطور فهمیدی من اینجام؟\n",
      "------------------------------\n",
      "reference: چرا اول به خودم نگفت ؟\n",
      "predicted: چرا اول به خودم نگفت؟\n",
      "------------------------------\n",
      "reference: که هر وقتی کسی خواست چیزی رو از کسی مخفی کنه\n",
      "predicted: که هر وقت کسی خواست چیزی رو از کسی مخفی کنه.\n",
      "------------------------------\n",
      "reference: شروع میکنه به داد زدن.\n",
      "predicted: شروع میکنه به داد زدن\n",
      "------------------------------\n",
      "reference: آقا، امروز کمک نمی خواین؟\n",
      "predicted: آقا، امروز کمک نمیخواین؟\n",
      "------------------------------\n",
      "reference: امیرحسن\n",
      "predicted: امیرحسن.\n",
      "------------------------------\n",
      "reference: و به مطالعه تطبیقی آثار برخاسته از فرهنگ های گوناگون می پردازد\n",
      "predicted: و به مطالعهی تطبیقی آثار برخواسته است فرهنگهای گوناگون میپردازد.\n",
      "------------------------------\n",
      "reference: اهورا\n",
      "predicted: اهورا\n",
      "------------------------------\n",
      "reference: نگاه داشت\n",
      "predicted: نگاه داشت.\n",
      "------------------------------\n",
      "reference: چهارصد\n",
      "predicted: چهارصد\n",
      "------------------------------\n",
      "reference: مسقط\n",
      "predicted: مسقد\n",
      "------------------------------\n",
      "reference: پاراماریبو\n",
      "predicted: ترامری با\n",
      "------------------------------\n",
      "reference: بَرازنده\n",
      "predicted: برازنده\n",
      "------------------------------\n",
      "reference: بَرشام\n",
      "predicted: برشام\n",
      "------------------------------\n",
      "reference: اِکرام\n",
      "predicted: اکرام\n",
      "------------------------------\n",
      "reference: عبارتی گفته میشود تا طرف را از یک نقطه به نقطه دیگر اتصال دهد\n",
      "predicted: عبارتی گفته میشود تا طرف را از یک نقطه به نقطه دیگر اتصال دهد.\n",
      "------------------------------\n",
      "reference: فراز رفت\n",
      "predicted: فراز رفت\n",
      "------------------------------\n",
      "reference: .یه شام مختصر درست کنه\n",
      "predicted: اشغام مختصر درست کند.\n",
      "------------------------------\n",
      "reference: یه بار تو محدوده مون یه دختر پسر در حال ماچ کردن هم بودن\n",
      "predicted: یه بار تو محدودامون یه دختر پسر در حال ماچ کردن هم بودن.\n",
      "------------------------------\n",
      "reference: .اوه ، خوب پس الان نه\n",
      "predicted: اوه خب pasalوننا\n",
      "------------------------------\n",
      "reference: آره اون الان زندانی منه\n",
      "predicted: آره اون الان زندنی منه.\n",
      "------------------------------\n",
      "reference: تو نمی خوای بازی کنی ؟\n",
      "predicted: تو نمیخوای بازی کنی؟\n",
      "------------------------------\n",
      "reference: خیر نبینی چه جوری برداشتی که من ندیدم؟\n",
      "predicted: خیلی نبینی چجوری برداشتی که من ندیدم.\n",
      "------------------------------\n"
     ]
    }
   ],
   "source": [
    "for reference, prediction in zip(references, predictions):\n",
    "    print(f\"reference: {reference}\")\n",
    "    print(f\"predicted: {prediction}\")\n",
    "    print(\"-\"*30)"
   ]
  },
  {
   "cell_type": "code",
   "execution_count": null,
   "id": "11a63cb6-4516-4173-9837-4b93c3968419",
   "metadata": {},
   "outputs": [],
   "source": []
  }
 ],
 "metadata": {
  "kernelspec": {
   "display_name": "py310",
   "language": "python",
   "name": "py310"
  },
  "language_info": {
   "codemirror_mode": {
    "name": "ipython",
    "version": 3
   },
   "file_extension": ".py",
   "mimetype": "text/x-python",
   "name": "python",
   "nbconvert_exporter": "python",
   "pygments_lexer": "ipython3",
   "version": "3.10.18"
  }
 },
 "nbformat": 4,
 "nbformat_minor": 5
}
