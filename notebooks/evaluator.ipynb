{
 "cells": [
  {
   "cell_type": "code",
   "execution_count": 56,
   "id": "82794662-cf22-47eb-af23-730b9cb8ff7d",
   "metadata": {
    "execution": {
     "iopub.execute_input": "2025-07-02T14:05:11.239963Z",
     "iopub.status.busy": "2025-07-02T14:05:11.239306Z",
     "iopub.status.idle": "2025-07-02T14:05:11.247335Z",
     "shell.execute_reply": "2025-07-02T14:05:11.245492Z",
     "shell.execute_reply.started": "2025-07-02T14:05:11.239908Z"
    }
   },
   "outputs": [],
   "source": [
    "import sys_append\n",
    "from utils.evaluate import evaluate_asr"
   ]
  },
  {
   "cell_type": "code",
   "execution_count": 66,
   "id": "f2be979b-e5eb-437b-b2ff-1a3f44979e12",
   "metadata": {
    "execution": {
     "iopub.execute_input": "2025-07-02T14:07:14.672471Z",
     "iopub.status.busy": "2025-07-02T14:07:14.671770Z",
     "iopub.status.idle": "2025-07-02T14:07:14.687614Z",
     "shell.execute_reply": "2025-07-02T14:07:14.685591Z",
     "shell.execute_reply.started": "2025-07-02T14:07:14.672419Z"
    }
   },
   "outputs": [
    {
     "data": {
      "text/plain": [
       "{'wer': 0.3333333333333333, 'cer': 0.21428571428571427}"
      ]
     },
     "execution_count": 66,
     "metadata": {},
     "output_type": "execute_result"
    }
   ],
   "source": [
    "reference = [\"علی رفت\"]\n",
    "hypothesis = [\"علی رفت\"]\n",
    "\n",
    "reference = [\"کتاب خوبی بود\"]\n",
    "hypothesis = [\"کِتابِ خوبی بود\"]\n",
    "\n",
    "reference = [\"من امروز به مدرسه رفتم\"]\n",
    "hypothesis = [\"من به مدرسه رفتم\"]\n",
    "\n",
    "reference = [\"او به خانه رفت\"]\n",
    "hypothesis = [\"به خانه او رفت\"]\n",
    "\n",
    "reference = [\"من کتاب خواندم\"]\n",
    "hypothesis = [\"من دفتر خواندم\"]\n",
    "\n",
    "reference = [\"دیروز هوا آفتابی بود\"]\n",
    "hypothesis = [\"امروز هوا بارانی است\"]\n",
    "\n",
    "reference = [\"کتاب را خواندم\"]\n",
    "hypothesis = [\"من کتاب را خواندم\"]\n",
    "\n",
    "evaluate_asr(reference, hypothesis)"
   ]
  }
 ],
 "metadata": {
  "kernelspec": {
   "display_name": "Python 3 (ipykernel)",
   "language": "python",
   "name": "python3"
  },
  "language_info": {
   "codemirror_mode": {
    "name": "ipython",
    "version": 3
   },
   "file_extension": ".py",
   "mimetype": "text/x-python",
   "name": "python",
   "nbconvert_exporter": "python",
   "pygments_lexer": "ipython3",
   "version": "3.12.9"
  }
 },
 "nbformat": 4,
 "nbformat_minor": 5
}
