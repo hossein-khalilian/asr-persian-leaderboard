{
 "cells": [
  {
   "cell_type": "code",
   "execution_count": 1,
   "id": "45da7fba-fd1e-4f06-abb9-7c196c4566ec",
   "metadata": {
    "execution": {
     "iopub.execute_input": "2025-07-28T09:56:09.978997Z",
     "iopub.status.busy": "2025-07-28T09:56:09.978315Z",
     "iopub.status.idle": "2025-07-28T09:56:09.987139Z",
     "shell.execute_reply": "2025-07-28T09:56:09.985432Z",
     "shell.execute_reply.started": "2025-07-28T09:56:09.978948Z"
    }
   },
   "outputs": [],
   "source": [
    "import re"
   ]
  },
  {
   "cell_type": "code",
   "execution_count": 2,
   "id": "778359b4-8dc3-4f01-ac97-9280c6ad9a76",
   "metadata": {
    "execution": {
     "iopub.execute_input": "2025-07-28T09:56:10.479995Z",
     "iopub.status.busy": "2025-07-28T09:56:10.479322Z",
     "iopub.status.idle": "2025-07-28T09:56:10.504222Z",
     "shell.execute_reply": "2025-07-28T09:56:10.502599Z",
     "shell.execute_reply.started": "2025-07-28T09:56:10.479948Z"
    }
   },
   "outputs": [],
   "source": [
    "def number_to_persian(num):\n",
    "    units = [\"\", \"یک\", \"دو\", \"سه\", \"چهار\", \"پنج\", \"شش\", \"هفت\", \"هشت\", \"نه\"]\n",
    "    teens = [\"ده\", \"یازده\", \"دوازده\", \"سیزده\", \"چهارده\", \"پانزده\", \"شانزده\", \"هفده\", \"هجده\", \"نوزده\"]\n",
    "    tens = [\"\", \"\", \"بیست\", \"سی\", \"چهل\", \"پنجاه\", \"شصت\", \"هفتاد\", \"هشتاد\", \"نود\"]\n",
    "    hundreds = [\"\", \"صد\", \"دویست\", \"سیصد\", \"چهارصد\", \"پانصد\", \"ششصد\", \"هفتصد\", \"هشتصد\", \"نهصد\"]\n",
    "\n",
    "    def three_digit_to_words(n):\n",
    "        result = []\n",
    "        h = n // 100\n",
    "        t = (n % 100) // 10\n",
    "        u = n % 10\n",
    "\n",
    "        if h:\n",
    "            result.append(hundreds[h])\n",
    "        if t == 1:\n",
    "            result.append(teens[u])\n",
    "        else:\n",
    "            if t:\n",
    "                result.append(tens[t])\n",
    "            if u:\n",
    "                result.append(units[u])\n",
    "\n",
    "        return \" و \".join(result)\n",
    "\n",
    "    if num == 0:\n",
    "        return \"صفر\"\n",
    "\n",
    "    parts = []\n",
    "    if num >= 1_000_000:\n",
    "        millions = num // 1_000_000\n",
    "        parts.append(number_to_persian(millions) + \" میلیون\")\n",
    "        num %= 1_000_000\n",
    "    if num >= 1_000:\n",
    "        thousands = num // 1_000\n",
    "        parts.append(number_to_persian(thousands) + \" هزار\")\n",
    "        num %= 1_000\n",
    "    if num > 0:\n",
    "        parts.append(three_digit_to_words(num))\n",
    "\n",
    "    return \" و \".join(parts)\n",
    "\n",
    "\n",
    "def decimal_to_persian_words(number):\n",
    "    number = float(number)\n",
    "    if int(number) == number:\n",
    "        number = int(number)\n",
    "        \n",
    "    int_part = int(number)\n",
    "    float_str = str(number)\n",
    "    \n",
    "    if '.' in float_str:\n",
    "        decimal_part = float_str.split('.')[1]\n",
    "        decimal_length = len(decimal_part)\n",
    "        decimal_value = int(decimal_part)\n",
    "\n",
    "        powers = {\n",
    "            1: \"دهم\",\n",
    "            2: \"صدم\",\n",
    "            3: \"هزارم\",\n",
    "            4: \"ده‌هزارم\",\n",
    "            5: \"صد‌هزارم\",\n",
    "            6: \"میلیونیم\"\n",
    "        }\n",
    "\n",
    "        int_words = number_to_persian(int_part) if int_part != 0 else \"\"\n",
    "        dec_words = number_to_persian(decimal_value)\n",
    "        unit = powers.get(decimal_length, f\"ده به توان منفی {decimal_length}\")\n",
    "\n",
    "        if int_words:\n",
    "            return f\"{int_words} و {dec_words} {unit}\"\n",
    "        else:\n",
    "            return f\"{dec_words} {unit}\"\n",
    "    else:\n",
    "        return number_to_persian(int(number))\n",
    "\n",
    "\n",
    "def replace_numbers_with_persian_words(text):\n",
    "    def replacer(match):\n",
    "        number_str = match.group()\n",
    "        return decimal_to_persian_words(number_str)\n",
    "\n",
    "    return re.sub(r'\\d+(\\.\\d+)?', replacer, text)"
   ]
  },
  {
   "cell_type": "code",
   "execution_count": 3,
   "id": "182ad1b2-6750-4fe4-8ad4-9d297891af60",
   "metadata": {
    "execution": {
     "iopub.execute_input": "2025-07-28T09:56:17.997545Z",
     "iopub.status.busy": "2025-07-28T09:56:17.996902Z",
     "iopub.status.idle": "2025-07-28T09:56:18.006189Z",
     "shell.execute_reply": "2025-07-28T09:56:18.004559Z",
     "shell.execute_reply.started": "2025-07-28T09:56:17.997487Z"
    }
   },
   "outputs": [
    {
     "name": "stdout",
     "output_type": "stream",
     "text": [
      "او در مسابقه‌ی دوی صد متر، با زمان نه و پانصد و بیست و هشت هزارم ثانیه برنده شد.\n"
     ]
    }
   ],
   "source": [
    "text = \"او در مسابقه‌ی دوی 100 متر، با زمان 9.528 ثانیه برنده شد.\"\n",
    "replace_numbers_with_persian_words(text)"
   ]
  }
 ],
 "metadata": {
  "kernelspec": {
   "display_name": "Python 3 (ipykernel)",
   "language": "python",
   "name": "python3"
  },
  "language_info": {
   "codemirror_mode": {
    "name": "ipython",
    "version": 3
   },
   "file_extension": ".py",
   "mimetype": "text/x-python",
   "name": "python",
   "nbconvert_exporter": "python",
   "pygments_lexer": "ipython3",
   "version": "3.12.9"
  }
 },
 "nbformat": 4,
 "nbformat_minor": 5
}
