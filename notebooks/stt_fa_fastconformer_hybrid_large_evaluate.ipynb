{
 "cells": [
  {
   "cell_type": "code",
   "execution_count": 1,
   "id": "b22fa375-d4d1-48a4-97b6-8096a17d1f44",
   "metadata": {
    "execution": {
     "iopub.execute_input": "2025-07-28T13:11:51.437669Z",
     "iopub.status.busy": "2025-07-28T13:11:51.436990Z",
     "iopub.status.idle": "2025-07-28T13:11:51.468435Z",
     "shell.execute_reply": "2025-07-28T13:11:51.463307Z",
     "shell.execute_reply.started": "2025-07-28T13:11:51.437606Z"
    }
   },
   "outputs": [],
   "source": [
    "import unicodedata\n",
    "import string\n",
    "\n",
    "SKIP = set(\n",
    "    list(string.ascii_letters)\n",
    "    + [\n",
    "        \"=\",  # occurs only 2x in utterance (transl.): \"twenty = xx\"\n",
    "        \"ā\",  # occurs only 4x together with \"š\"\n",
    "        \"š\",\n",
    "        # Arabic letters\n",
    "        \"ة\",  # TEH MARBUTA\n",
    "    ]\n",
    ")\n",
    "\n",
    "DISCARD = [\n",
    "    # \"(laughter)\" in Farsi\n",
    "    \"(خنده)\",\n",
    "    # ASCII\n",
    "    \"!\",\n",
    "    '\"',\n",
    "    \"#\",\n",
    "    \"&\",\n",
    "    \"'\",\n",
    "    \"(\",\n",
    "    \")\",\n",
    "    \",\",\n",
    "    \"-\",\n",
    "    \".\",\n",
    "    \":\",\n",
    "    \";\",\n",
    "    # Unicode punctuation?\n",
    "    \"–\",\n",
    "    \"“\",\n",
    "    \"”\",\n",
    "    \"…\",\n",
    "    \"؟\",\n",
    "    \"،\",\n",
    "    \"؛\",\n",
    "    \"ـ\",\n",
    "    # Unicode whitespace?\n",
    "    \"ً\",\n",
    "    \"ٌ\",\n",
    "    \"َ\",\n",
    "    \"ُ\",\n",
    "    \"ِ\",\n",
    "    \"ّ\",\n",
    "    \"ْ\",\n",
    "    \"ٔ\",\n",
    "    # Other\n",
    "    \"«\",\n",
    "    \"»\",\n",
    "]\n",
    "\n",
    "REPLACEMENTS = {\n",
    "    \"أ\": \"ا\",\n",
    "    \"ۀ\": \"ە\",\n",
    "    \"ك\": \"ک\",\n",
    "    \"ي\": \"ی\",\n",
    "    \"ى\": \"ی\",\n",
    "    \"ﯽ\": \"ی\",\n",
    "    \"ﻮ\": \"و\",\n",
    "    \"ے\": \"ی\",\n",
    "    \"ﺒ\": \"ب\",\n",
    "    \"ﻢ\": \"ﻡ\",\n",
    "    \"٬\": \" \",\n",
    "    \"ە\": \"ه\",\n",
    "}\n",
    "\n",
    "\n",
    "def maybe_normalize(text: str) -> str | None:\n",
    "\n",
    "    # Skip selected with banned characters\n",
    "    if set(text) & SKIP:\n",
    "        return None  # skip this\n",
    "\n",
    "    # Remove hashtags - they are not being read in Farsi CV\n",
    "    text = \" \".join(w for w in text.split() if not w.startswith(\"#\"))\n",
    "\n",
    "    # Replace selected characters with others\n",
    "    for lhs, rhs in REPLACEMENTS.items():\n",
    "        text = text.replace(lhs, rhs)\n",
    "\n",
    "    # Replace selected characters with empty strings\n",
    "    for tok in DISCARD:\n",
    "        text = text.replace(tok, \"\")\n",
    "\n",
    "    # Unify the symbols that have the same meaning but different Unicode representation.\n",
    "    text = unicodedata.normalize(\"NFKC\", text)\n",
    "\n",
    "    # Remove hamza's that were not merged with any letter by NFKC.\n",
    "    text = text.replace(\"ء\", \"\")\n",
    "\n",
    "    # Remove double whitespace etc.\n",
    "    return \" \".join(t for t in text.split() if t)\n"
   ]
  },
  {
   "cell_type": "code",
   "execution_count": 4,
   "id": "6bb76d6b-ed19-4c5c-9db8-3bed8b730542",
   "metadata": {
    "execution": {
     "iopub.execute_input": "2025-07-28T13:36:23.076733Z",
     "iopub.status.busy": "2025-07-28T13:36:23.075897Z",
     "iopub.status.idle": "2025-07-28T13:36:24.518495Z",
     "shell.execute_reply": "2025-07-28T13:36:24.516739Z",
     "shell.execute_reply.started": "2025-07-28T13:36:23.076680Z"
    }
   },
   "outputs": [],
   "source": [
    "from datasets import load_dataset\n",
    "dataset = load_dataset(\"hsekhalilian/fleurs\", split=\"validation\")"
   ]
  },
  {
   "cell_type": "code",
   "execution_count": 5,
   "id": "6495a9be-9eed-45d7-983c-1c9ad0a9b4d6",
   "metadata": {
    "execution": {
     "iopub.execute_input": "2025-07-28T13:36:25.365933Z",
     "iopub.status.busy": "2025-07-28T13:36:25.365206Z",
     "iopub.status.idle": "2025-07-28T13:36:25.389061Z",
     "shell.execute_reply": "2025-07-28T13:36:25.386928Z",
     "shell.execute_reply.started": "2025-07-28T13:36:25.365882Z"
    }
   },
   "outputs": [
    {
     "data": {
      "text/plain": [
       "{'id': 1567,\n",
       " 'num_samples': 152640,\n",
       " 'path': '/home/jovyan/.cache/huggingface/datasets/downloads/extracted/208b445c44866c7760854933a1fe8f3e632c83bf1655d9cd40f3a134a7625264/10049006222377318397.wav',\n",
       " 'audio': {'path': '10049006222377318397.wav',\n",
       "  'array': array([0.        , 0.        , 0.        , ..., 0.0001471 , 0.00012559,\n",
       "         0.00013351]),\n",
       "  'sampling_rate': 16000},\n",
       " 'transcription': 'بزرگترین مسابقه سال در ماه دسامبر در زمین\\u200cهای چوگان لاس کانیتاس اتفاق می\\u200cافتد',\n",
       " 'raw_transcription': 'بزرگترین مسابقه سال در ماه دسامبر در زمین\\u200cهای چوگان «لاس کانیتاس» اتفاق می\\u200cافتد.',\n",
       " 'gender': 0,\n",
       " 'lang_id': 22,\n",
       " 'language': 'Persian',\n",
       " 'lang_group_id': 2,\n",
       " 'normalized_transcription': 'بزرگترین مسابقه سال در ماه دسامبر در زمین\\u200cهای چوگان لاس کانیتاس اتفاق می\\u200cافتد'}"
      ]
     },
     "execution_count": 5,
     "metadata": {},
     "output_type": "execute_result"
    }
   ],
   "source": [
    "dataset[0]"
   ]
  },
  {
   "cell_type": "code",
   "execution_count": 9,
   "id": "3b5c658d-73bb-46bc-a6ef-79ad16f7d01f",
   "metadata": {
    "execution": {
     "iopub.execute_input": "2025-07-28T13:13:30.240129Z",
     "iopub.status.busy": "2025-07-28T13:13:30.239594Z",
     "iopub.status.idle": "2025-07-28T13:13:44.730023Z",
     "shell.execute_reply": "2025-07-28T13:13:44.728984Z",
     "shell.execute_reply.started": "2025-07-28T13:13:30.240100Z"
    }
   },
   "outputs": [
    {
     "name": "stdout",
     "output_type": "stream",
     "text": [
      "[NeMo I 2025-07-28 13:13:39 nemo_logging:393] Tokenizer SentencePieceTokenizer initialized with 1024 tokens\n"
     ]
    },
    {
     "name": "stderr",
     "output_type": "stream",
     "text": [
      "[NeMo W 2025-07-28 13:13:41 nemo_logging:405] If you intend to do training or fine-tuning, please call the ModelPT.setup_training_data() method and provide a valid configuration file to setup the train data loader.\n",
      "    Train config : \n",
      "    manifest_filepath: dummy\n",
      "    sample_rate: 16000\n",
      "    batch_size: 1\n",
      "    shuffle: true\n",
      "    num_workers: 8\n",
      "    pin_memory: true\n",
      "    max_duration: 10\n",
      "    min_duration: 0.5\n",
      "    is_tarred: false\n",
      "    tarred_audio_filepaths: null\n",
      "    shuffle_n: 2048\n",
      "    bucketing_strategy: fully_randomized\n",
      "    bucketing_batch_size: null\n",
      "    use_lhotse: true\n",
      "    lhotse:\n",
      "      shar_path: /data_artifacts/data/shar/train\n",
      "      batch_duration: 1200\n",
      "      quadratic_duration: 15\n",
      "      num_buckets: 10\n",
      "      num_cuts_for_bins_estimate: 10000\n",
      "      buffer_size: 10000\n",
      "      shuffle_buffer_size: 10000\n",
      "    \n",
      "[NeMo W 2025-07-28 13:13:41 nemo_logging:405] If you intend to do validation, please call the ModelPT.setup_validation_data() or ModelPT.setup_multiple_validation_data() method and provide a valid configuration file to setup the validation data loader(s). \n",
      "    Validation config : \n",
      "    manifest_filepath: /data_artifacts/data/nemo/dev_decoded_exprunner.json\n",
      "    sample_rate: 16000\n",
      "    batch_size: 512\n",
      "    shuffle: false\n",
      "    use_start_end_token: false\n",
      "    num_workers: 8\n",
      "    pin_memory: true\n",
      "    \n",
      "[NeMo W 2025-07-28 13:13:41 nemo_logging:405] Please call the ModelPT.setup_test_data() or ModelPT.setup_multiple_test_data() method and provide a valid configuration file to setup the test data loader(s).\n",
      "    Test config : \n",
      "    manifest_filepath: /data_artifacts/data/nemo/test_decoded_exprunner.json\n",
      "    sample_rate: 16000\n",
      "    batch_size: 512\n",
      "    shuffle: false\n",
      "    use_start_end_token: false\n",
      "    num_workers: 8\n",
      "    pin_memory: true\n",
      "    \n"
     ]
    },
    {
     "name": "stdout",
     "output_type": "stream",
     "text": [
      "[NeMo I 2025-07-28 13:13:41 nemo_logging:393] PADDING: 0\n",
      "[NeMo I 2025-07-28 13:13:42 nemo_logging:393] Using RNNT Loss : warprnnt_numba\n",
      "    Loss warprnnt_numba_kwargs: {'fastemit_lambda': 0.0, 'clamp': -1.0}\n",
      "[NeMo I 2025-07-28 13:13:42 nemo_logging:393] Using RNNT Loss : warprnnt_numba\n",
      "    Loss warprnnt_numba_kwargs: {'fastemit_lambda': 0.0, 'clamp': -1.0}\n"
     ]
    },
    {
     "name": "stderr",
     "output_type": "stream",
     "text": [
      "[NeMo W 2025-07-28 13:13:42 nemo_logging:405] No conditional node support for Cuda.\n",
      "    Cuda graphs with while loops are disabled, decoding speed will be slower\n",
      "    Reason: CUDA is not available\n"
     ]
    },
    {
     "name": "stdout",
     "output_type": "stream",
     "text": [
      "[NeMo I 2025-07-28 13:13:43 nemo_logging:393] Using RNNT Loss : warprnnt_numba\n",
      "    Loss warprnnt_numba_kwargs: {'fastemit_lambda': 0.0, 'clamp': -1.0}\n"
     ]
    },
    {
     "name": "stderr",
     "output_type": "stream",
     "text": [
      "[NeMo W 2025-07-28 13:13:43 nemo_logging:405] No conditional node support for Cuda.\n",
      "    Cuda graphs with while loops are disabled, decoding speed will be slower\n",
      "    Reason: CUDA is not available\n"
     ]
    },
    {
     "name": "stdout",
     "output_type": "stream",
     "text": [
      "[NeMo I 2025-07-28 13:13:44 nemo_logging:393] Model EncDecHybridRNNTCTCBPEModel was successfully restored from /home/jovyan/.cache/huggingface/hub/models--nvidia--stt_fa_fastconformer_hybrid_large/snapshots/249cf5bf70dda7220a60ddeeecff2f6aad8e1784/stt_fa_fastconformer_hybrid_large.nemo.\n"
     ]
    }
   ],
   "source": [
    "import nemo.collections.asr as nemo_asr\n",
    "asr_model = nemo_asr.models.EncDecHybridRNNTCTCBPEModel.from_pretrained(model_name=\"nvidia/stt_fa_fastconformer_hybrid_large\")"
   ]
  },
  {
   "cell_type": "code",
   "execution_count": 5,
   "id": "bdd470fc-4a2e-46b9-bc90-15033118e3f0",
   "metadata": {
    "execution": {
     "iopub.execute_input": "2025-07-28T13:11:58.457511Z",
     "iopub.status.busy": "2025-07-28T13:11:58.456847Z",
     "iopub.status.idle": "2025-07-28T13:11:58.469427Z",
     "shell.execute_reply": "2025-07-28T13:11:58.467783Z",
     "shell.execute_reply.started": "2025-07-28T13:11:58.457454Z"
    }
   },
   "outputs": [],
   "source": [
    "from text_normalizer.persian_normalizer import persian_normalizer_no_punc"
   ]
  },
  {
   "cell_type": "code",
   "execution_count": 12,
   "id": "fcf8cb62-cbb0-44c0-bc16-a91fd2f89ba6",
   "metadata": {
    "execution": {
     "iopub.execute_input": "2025-07-28T13:17:41.672437Z",
     "iopub.status.busy": "2025-07-28T13:17:41.671690Z",
     "iopub.status.idle": "2025-07-28T13:17:41.688182Z",
     "shell.execute_reply": "2025-07-28T13:17:41.686306Z",
     "shell.execute_reply.started": "2025-07-28T13:17:41.672384Z"
    }
   },
   "outputs": [],
   "source": [
    "from pathlib import Path"
   ]
  },
  {
   "cell_type": "code",
   "execution_count": 17,
   "id": "4bc80db7-c7eb-41e7-90ac-ca53466ae555",
   "metadata": {
    "execution": {
     "iopub.execute_input": "2025-07-28T13:18:45.841479Z",
     "iopub.status.busy": "2025-07-28T13:18:45.840823Z",
     "iopub.status.idle": "2025-07-28T13:18:45.856800Z",
     "shell.execute_reply": "2025-07-28T13:18:45.855407Z",
     "shell.execute_reply.started": "2025-07-28T13:18:45.841430Z"
    }
   },
   "outputs": [],
   "source": [
    "for sample in dataset:\n",
    "    audio_info = sample[\"audio\"]\n",
    "    audio_filename = Path(audio_info[\"path\"]).name\n",
    "    output_audio_path = Path(\"/home/jovyan/.cache\") / \"audio_files\" / audio_filename\n",
    "    text = sample.get(\"sentence\")\n",
    "    waveform = torch.tensor(audio_info[\"array\"]).unsqueeze(0)\n",
    "    sr = audio_info[\"sampling_rate\"]\n",
    "\n",
    "    if sr != TARGET_SAMPLING_RATE:\n",
    "        waveform = resample_audio(waveform, sr, TARGET_SAMPLING_RATE)\n",
    "\n",
    "    save_audio(waveform, TARGET_SAMPLING_RATE, output_audio_path)\n",
    "\n",
    "    duration = waveform.shape[1] / TARGET_SAMPLING_RATE\n"
   ]
  },
  {
   "cell_type": "code",
   "execution_count": 18,
   "id": "18ccb794-a16a-4df3-a284-f020a09f47ff",
   "metadata": {
    "execution": {
     "iopub.execute_input": "2025-07-28T13:19:00.136199Z",
     "iopub.status.busy": "2025-07-28T13:19:00.135600Z",
     "iopub.status.idle": "2025-07-28T13:19:00.147707Z",
     "shell.execute_reply": "2025-07-28T13:19:00.146148Z",
     "shell.execute_reply.started": "2025-07-28T13:19:00.136152Z"
    }
   },
   "outputs": [
    {
     "data": {
      "text/plain": [
       "PosixPath('/home/jovyan/.cache/audio_files/common_voice_fa_19036153.flac')"
      ]
     },
     "execution_count": 18,
     "metadata": {},
     "output_type": "execute_result"
    }
   ],
   "source": [
    "output_audio_path"
   ]
  }
 ],
 "metadata": {
  "kernelspec": {
   "display_name": "Python 3 (ipykernel)",
   "language": "python",
   "name": "python3"
  },
  "language_info": {
   "codemirror_mode": {
    "name": "ipython",
    "version": 3
   },
   "file_extension": ".py",
   "mimetype": "text/x-python",
   "name": "python",
   "nbconvert_exporter": "python",
   "pygments_lexer": "ipython3",
   "version": "3.12.9"
  }
 },
 "nbformat": 4,
 "nbformat_minor": 5
}
