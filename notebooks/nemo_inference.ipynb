{
 "cells": [
  {
   "cell_type": "code",
   "execution_count": 17,
   "id": "9b14aefc-898d-4e16-bdc4-2867f8f050a9",
   "metadata": {
    "execution": {
     "iopub.execute_input": "2025-07-15T09:45:22.596858Z",
     "iopub.status.busy": "2025-07-15T09:45:22.596610Z",
     "iopub.status.idle": "2025-07-15T09:45:22.599931Z",
     "shell.execute_reply": "2025-07-15T09:45:22.599421Z",
     "shell.execute_reply.started": "2025-07-15T09:45:22.596829Z"
    }
   },
   "outputs": [],
   "source": [
    "# !pip install -r ../requirements.txt"
   ]
  },
  {
   "cell_type": "markdown",
   "id": "eb913b9c-10a9-479e-845e-22cf12efd3e3",
   "metadata": {
    "jp-MarkdownHeadingCollapsed": true
   },
   "source": [
    "# create dataset"
   ]
  },
  {
   "cell_type": "code",
   "execution_count": 5,
   "id": "76828217-ac09-4f54-abcf-fab3246334ba",
   "metadata": {
    "execution": {
     "iopub.execute_input": "2025-07-15T08:33:39.832976Z",
     "iopub.status.busy": "2025-07-15T08:33:39.832375Z",
     "iopub.status.idle": "2025-07-15T08:33:39.836426Z",
     "shell.execute_reply": "2025-07-15T08:33:39.835715Z",
     "shell.execute_reply.started": "2025-07-15T08:33:39.832955Z"
    }
   },
   "outputs": [],
   "source": [
    "import os\n",
    "import json\n",
    "import torch\n",
    "import torchaudio\n",
    "from datasets import load_dataset"
   ]
  },
  {
   "cell_type": "code",
   "execution_count": 6,
   "id": "8d9f2498-4def-4948-a780-7ba54a5cd8e1",
   "metadata": {
    "execution": {
     "iopub.execute_input": "2025-07-15T08:33:40.398831Z",
     "iopub.status.busy": "2025-07-15T08:33:40.398563Z",
     "iopub.status.idle": "2025-07-15T08:33:41.168790Z",
     "shell.execute_reply": "2025-07-15T08:33:41.168053Z",
     "shell.execute_reply.started": "2025-07-15T08:33:40.398812Z"
    }
   },
   "outputs": [],
   "source": [
    "dataset_name = \"hsekhalilian/commonvoice\"\n",
    "dataset = load_dataset(dataset_name, split=\"dev\")\n",
    "dataset = dataset.select(range(1000))"
   ]
  },
  {
   "cell_type": "code",
   "execution_count": 7,
   "id": "47018617-e266-4d8c-a0e1-d143b5c89559",
   "metadata": {
    "execution": {
     "iopub.execute_input": "2025-07-15T08:33:41.170047Z",
     "iopub.status.busy": "2025-07-15T08:33:41.169861Z",
     "iopub.status.idle": "2025-07-15T08:33:45.339847Z",
     "shell.execute_reply": "2025-07-15T08:33:45.339341Z",
     "shell.execute_reply.started": "2025-07-15T08:33:41.170030Z"
    }
   },
   "outputs": [],
   "source": [
    "output_dir = os.path.expanduser(f\"~/.cache/datasets/{dataset_name.replace(\"/\", \"___\")}/audio_files/\")\n",
    "os.makedirs(output_dir, exist_ok=True)\n",
    "\n",
    "output_manifest = os.path.join(output_dir, \"..\", \"dev_manifest.json\")\n",
    "target_sr = 16000\n",
    "\n",
    "\n",
    "with open(output_manifest, \"w\") as fout:\n",
    "    for sample in dataset:\n",
    "        text = sample[\"sentence\"]\n",
    "        \n",
    "        audio_path = sample[\"audio\"][\"path\"]\n",
    "        audio_path = audio_path.strip(\"/\").split(\"/\")[-1]\n",
    "        output_audio_path = os.path.join(output_dir, audio_path)\n",
    "        \n",
    "        waveform, sr = torch.tensor(sample[\"audio\"][\"array\"]).unsqueeze(0), sample[\"audio\"][\"sampling_rate\"]\n",
    "\n",
    "        \n",
    "        if sr != target_sr:\n",
    "            resampler = torchaudio.transforms.Resample(orig_freq=sr, new_freq=target_sr)\n",
    "            waveform = resampler(waveform)\n",
    "            sr = target_sr\n",
    "\n",
    "        torchaudio.save(output_audio_path, waveform, sr)\n",
    "\n",
    "        duration = waveform.shape[1] / sr\n",
    "\n",
    "        fout.write(json.dumps({\n",
    "            \"audio_filepath\": os.path.abspath(output_audio_path),\n",
    "            \"duration\": duration,\n",
    "            \"text\": text\n",
    "        }) + \"\\n\")"
   ]
  },
  {
   "cell_type": "markdown",
   "id": "b0ddc72a-8277-4809-82a6-41e04e9535db",
   "metadata": {
    "execution": {
     "iopub.execute_input": "2025-07-09T11:27:37.328012Z",
     "iopub.status.busy": "2025-07-09T11:27:37.327673Z",
     "iopub.status.idle": "2025-07-09T11:27:37.336346Z",
     "shell.execute_reply": "2025-07-09T11:27:37.335752Z",
     "shell.execute_reply.started": "2025-07-09T11:27:37.327983Z"
    },
    "jp-MarkdownHeadingCollapsed": true
   },
   "source": [
    "# inference"
   ]
  },
  {
   "cell_type": "code",
   "execution_count": 8,
   "id": "f42dc58e-0520-4f08-8edb-2a2f8ae7978a",
   "metadata": {
    "execution": {
     "iopub.execute_input": "2025-07-15T08:33:45.340538Z",
     "iopub.status.busy": "2025-07-15T08:33:45.340321Z",
     "iopub.status.idle": "2025-07-15T08:33:45.344833Z",
     "shell.execute_reply": "2025-07-15T08:33:45.344151Z",
     "shell.execute_reply.started": "2025-07-15T08:33:45.340519Z"
    }
   },
   "outputs": [],
   "source": [
    "import os\n",
    "import json\n",
    "from tqdm import tqdm\n",
    "from jiwer import wer\n",
    "import nemo.collections.asr as nemo_asr\n",
    "\n",
    "\n",
    "import logging\n",
    "logging.getLogger('nemo_logger').setLevel(logging.CRITICAL)"
   ]
  },
  {
   "cell_type": "code",
   "execution_count": 9,
   "id": "4f60d5ff-8a01-438d-a96f-0add1f3424dc",
   "metadata": {
    "execution": {
     "iopub.execute_input": "2025-07-15T08:33:45.346041Z",
     "iopub.status.busy": "2025-07-15T08:33:45.345862Z",
     "iopub.status.idle": "2025-07-15T08:33:49.604067Z",
     "shell.execute_reply": "2025-07-15T08:33:49.603342Z",
     "shell.execute_reply.started": "2025-07-15T08:33:45.346024Z"
    }
   },
   "outputs": [],
   "source": [
    "asr_model = nemo_asr.models.EncDecHybridRNNTCTCBPEModel.from_pretrained(model_name=\"nvidia/stt_fa_fastconformer_hybrid_large\").eval()"
   ]
  },
  {
   "cell_type": "code",
   "execution_count": 10,
   "id": "6989ddd6-2a66-49f6-beb0-a0ec43a86c78",
   "metadata": {
    "execution": {
     "iopub.execute_input": "2025-07-15T08:33:50.645603Z",
     "iopub.status.busy": "2025-07-15T08:33:50.645269Z",
     "iopub.status.idle": "2025-07-15T08:34:03.775885Z",
     "shell.execute_reply": "2025-07-15T08:34:03.775152Z",
     "shell.execute_reply.started": "2025-07-15T08:33:50.645581Z"
    }
   },
   "outputs": [
    {
     "name": "stderr",
     "output_type": "stream",
     "text": [
      "Transcribing: 100%|██████████| 250/250 [00:13<00:00, 19.15it/s]"
     ]
    },
    {
     "name": "stdout",
     "output_type": "stream",
     "text": [
      "\n",
      "WER: 14.72%\n"
     ]
    },
    {
     "name": "stderr",
     "output_type": "stream",
     "text": [
      "\n"
     ]
    }
   ],
   "source": [
    "manifest_path = os.path.expanduser(f\"~/.cache/datasets/{dataset_name.replace(\"/\", \"___\")}/dev_manifest.json\")\n",
    "\n",
    "audio_files = []\n",
    "references = []\n",
    "predictions = []\n",
    "\n",
    "with open(manifest_path, \"r\", encoding=\"utf-8\") as f:\n",
    "    for line in f:\n",
    "        entry = json.loads(line)\n",
    "        audio_files.append(entry[\"audio_filepath\"])\n",
    "        references.append(entry[\"text\"])\n",
    "\n",
    "results = asr_model.transcribe(audio_files)\n",
    "predictions = [result.text for result in results]\n",
    "\n",
    "error_rate = wer(references, predictions)\n",
    "print(f\"\\nWER: {error_rate:.2%}\")"
   ]
  },
  {
   "cell_type": "code",
   "execution_count": 11,
   "id": "37c0e09a-a47f-4f33-a67d-cb9dce578abd",
   "metadata": {
    "execution": {
     "iopub.execute_input": "2025-07-15T08:36:26.423273Z",
     "iopub.status.busy": "2025-07-15T08:36:26.422990Z",
     "iopub.status.idle": "2025-07-15T08:36:26.426779Z",
     "shell.execute_reply": "2025-07-15T08:36:26.426211Z",
     "shell.execute_reply.started": "2025-07-15T08:36:26.423255Z"
    }
   },
   "outputs": [],
   "source": [
    "import numpy as np"
   ]
  },
  {
   "cell_type": "markdown",
   "id": "a66fcb0e-7c0a-4767-9d6c-744da1e89509",
   "metadata": {
    "jp-MarkdownHeadingCollapsed": true
   },
   "source": [
    "# test"
   ]
  },
  {
   "cell_type": "code",
   "execution_count": 1,
   "id": "c6162732-f409-4ffa-9959-f002d7a99bae",
   "metadata": {
    "execution": {
     "iopub.execute_input": "2025-07-09T12:57:26.081648Z",
     "iopub.status.busy": "2025-07-09T12:57:26.081385Z",
     "iopub.status.idle": "2025-07-09T12:57:26.088870Z",
     "shell.execute_reply": "2025-07-09T12:57:26.086799Z",
     "shell.execute_reply.started": "2025-07-09T12:57:26.081625Z"
    }
   },
   "outputs": [],
   "source": [
    "import sys_append"
   ]
  },
  {
   "cell_type": "code",
   "execution_count": 2,
   "id": "0ef1375a-e155-4990-aaa0-ba43f8587915",
   "metadata": {
    "execution": {
     "iopub.execute_input": "2025-07-09T12:57:26.091329Z",
     "iopub.status.busy": "2025-07-09T12:57:26.091099Z",
     "iopub.status.idle": "2025-07-09T12:57:27.891773Z",
     "shell.execute_reply": "2025-07-09T12:57:27.891102Z",
     "shell.execute_reply.started": "2025-07-09T12:57:26.091308Z"
    }
   },
   "outputs": [],
   "source": [
    "from utils.create_dataset import create_nemo_dataset"
   ]
  },
  {
   "cell_type": "code",
   "execution_count": 3,
   "id": "3f360e52-3fb8-4aca-9fc7-dcce5c430b89",
   "metadata": {
    "execution": {
     "iopub.execute_input": "2025-07-09T12:57:27.892383Z",
     "iopub.status.busy": "2025-07-09T12:57:27.892201Z",
     "iopub.status.idle": "2025-07-09T12:57:33.734196Z",
     "shell.execute_reply": "2025-07-09T12:57:33.733861Z",
     "shell.execute_reply.started": "2025-07-09T12:57:27.892372Z"
    }
   },
   "outputs": [
    {
     "name": "stderr",
     "output_type": "stream",
     "text": [
      "Processing dev split: 100%|██████████| 1000/1000 [00:04<00:00, 215.56it/s]\n"
     ]
    }
   ],
   "source": [
    "create_nemo_dataset({\"dataset\": \"hsekhalilian/commonvoice\", \"split\": \"dev\", \"sample_size\": 1000})"
   ]
  },
  {
   "cell_type": "code",
   "execution_count": null,
   "id": "11a36371-9864-44b0-bfe5-ef2c28e110fb",
   "metadata": {},
   "outputs": [],
   "source": []
  }
 ],
 "metadata": {
  "kernelspec": {
   "display_name": "Python 3 (ipykernel)",
   "language": "python",
   "name": "python3"
  },
  "language_info": {
   "codemirror_mode": {
    "name": "ipython",
    "version": 3
   },
   "file_extension": ".py",
   "mimetype": "text/x-python",
   "name": "python",
   "nbconvert_exporter": "python",
   "pygments_lexer": "ipython3",
   "version": "3.12.9"
  }
 },
 "nbformat": 4,
 "nbformat_minor": 5
}
