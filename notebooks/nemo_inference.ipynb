{
 "cells": [
  {
   "cell_type": "code",
   "execution_count": 3,
   "id": "ae710085-2f0e-4cb2-897a-acdf2be415ae",
   "metadata": {
    "execution": {
     "iopub.execute_input": "2025-07-09T09:30:26.430604Z",
     "iopub.status.busy": "2025-07-09T09:30:26.430304Z",
     "iopub.status.idle": "2025-07-09T09:30:26.434888Z",
     "shell.execute_reply": "2025-07-09T09:30:26.434170Z",
     "shell.execute_reply.started": "2025-07-09T09:30:26.430577Z"
    }
   },
   "outputs": [],
   "source": [
    "# !pip install nemo_toolkit['asr']"
   ]
  },
  {
   "cell_type": "markdown",
   "id": "eb913b9c-10a9-479e-845e-22cf12efd3e3",
   "metadata": {
    "jp-MarkdownHeadingCollapsed": true
   },
   "source": [
    "# create dataset"
   ]
  },
  {
   "cell_type": "code",
   "execution_count": 7,
   "id": "76828217-ac09-4f54-abcf-fab3246334ba",
   "metadata": {
    "execution": {
     "iopub.execute_input": "2025-07-09T11:56:34.107254Z",
     "iopub.status.busy": "2025-07-09T11:56:34.106883Z",
     "iopub.status.idle": "2025-07-09T11:56:34.111246Z",
     "shell.execute_reply": "2025-07-09T11:56:34.110338Z",
     "shell.execute_reply.started": "2025-07-09T11:56:34.107231Z"
    }
   },
   "outputs": [],
   "source": [
    "import os\n",
    "import json\n",
    "import torch\n",
    "import torchaudio\n",
    "from datasets import load_dataset"
   ]
  },
  {
   "cell_type": "code",
   "execution_count": 8,
   "id": "8d9f2498-4def-4948-a780-7ba54a5cd8e1",
   "metadata": {
    "execution": {
     "iopub.execute_input": "2025-07-09T11:56:34.313835Z",
     "iopub.status.busy": "2025-07-09T11:56:34.313577Z",
     "iopub.status.idle": "2025-07-09T11:56:34.947235Z",
     "shell.execute_reply": "2025-07-09T11:56:34.946309Z",
     "shell.execute_reply.started": "2025-07-09T11:56:34.313813Z"
    }
   },
   "outputs": [],
   "source": [
    "dataset = load_dataset(\"hsekhalilian/commonvoice\", split=\"dev\")\n",
    "dataset = dataset.select(range(1000))"
   ]
  },
  {
   "cell_type": "code",
   "execution_count": 9,
   "id": "47018617-e266-4d8c-a0e1-d143b5c89559",
   "metadata": {
    "execution": {
     "iopub.execute_input": "2025-07-09T11:56:34.948707Z",
     "iopub.status.busy": "2025-07-09T11:56:34.948436Z",
     "iopub.status.idle": "2025-07-09T11:56:38.346778Z",
     "shell.execute_reply": "2025-07-09T11:56:38.346455Z",
     "shell.execute_reply.started": "2025-07-09T11:56:34.948681Z"
    }
   },
   "outputs": [],
   "source": [
    "output_dir = os.path.expanduser(\"~/.cache/datasets/commonvoice/audio_files/\")\n",
    "os.makedirs(output_dir, exist_ok=True)\n",
    "\n",
    "output_manifest = os.path.join(output_dir, \"..\", \"dev_manifest.json\")\n",
    "target_sr = 16000\n",
    "\n",
    "\n",
    "with open(output_manifest, \"w\") as fout:\n",
    "    for sample in dataset:\n",
    "        text = sample[\"sentence\"]\n",
    "        \n",
    "        audio_path = sample[\"audio\"][\"path\"]\n",
    "        audio_path = audio_path.strip(\"/\").split(\"/\")[-1]\n",
    "        output_audio_path = os.path.join(output_dir, audio_path)\n",
    "        \n",
    "        waveform, sr = torch.tensor(sample[\"audio\"][\"array\"]).unsqueeze(0), sample[\"audio\"][\"sampling_rate\"]\n",
    "\n",
    "        \n",
    "        if sr != target_sr:\n",
    "            resampler = torchaudio.transforms.Resample(orig_freq=sr, new_freq=target_sr)\n",
    "            waveform = resampler(waveform)\n",
    "            sr = target_sr\n",
    "\n",
    "        torchaudio.save(output_audio_path, waveform, sr)\n",
    "\n",
    "        duration = waveform.shape[1] / sr\n",
    "\n",
    "        fout.write(json.dumps({\n",
    "            \"audio_filepath\": os.path.abspath(output_audio_path),\n",
    "            \"duration\": duration,\n",
    "            \"text\": text\n",
    "        }) + \"\\n\")"
   ]
  },
  {
   "cell_type": "markdown",
   "id": "b0ddc72a-8277-4809-82a6-41e04e9535db",
   "metadata": {
    "execution": {
     "iopub.execute_input": "2025-07-09T11:27:37.328012Z",
     "iopub.status.busy": "2025-07-09T11:27:37.327673Z",
     "iopub.status.idle": "2025-07-09T11:27:37.336346Z",
     "shell.execute_reply": "2025-07-09T11:27:37.335752Z",
     "shell.execute_reply.started": "2025-07-09T11:27:37.327983Z"
    },
    "jp-MarkdownHeadingCollapsed": true
   },
   "source": [
    "# inference"
   ]
  },
  {
   "cell_type": "code",
   "execution_count": 5,
   "id": "f42dc58e-0520-4f08-8edb-2a2f8ae7978a",
   "metadata": {
    "execution": {
     "iopub.execute_input": "2025-07-09T13:02:58.583875Z",
     "iopub.status.busy": "2025-07-09T13:02:58.583586Z",
     "iopub.status.idle": "2025-07-09T13:03:02.470728Z",
     "shell.execute_reply": "2025-07-09T13:03:02.470122Z",
     "shell.execute_reply.started": "2025-07-09T13:02:58.583852Z"
    }
   },
   "outputs": [],
   "source": [
    "import os\n",
    "import json\n",
    "from tqdm import tqdm\n",
    "from jiwer import wer\n",
    "import nemo.collections.asr as nemo_asr\n",
    "\n",
    "\n",
    "import logging\n",
    "logging.getLogger('nemo_logger').setLevel(logging.CRITICAL)"
   ]
  },
  {
   "cell_type": "code",
   "execution_count": 6,
   "id": "4f60d5ff-8a01-438d-a96f-0add1f3424dc",
   "metadata": {
    "execution": {
     "iopub.execute_input": "2025-07-09T13:03:02.471784Z",
     "iopub.status.busy": "2025-07-09T13:03:02.471394Z",
     "iopub.status.idle": "2025-07-09T13:03:06.118782Z",
     "shell.execute_reply": "2025-07-09T13:03:06.118060Z",
     "shell.execute_reply.started": "2025-07-09T13:03:02.471771Z"
    }
   },
   "outputs": [],
   "source": [
    "asr_model = nemo_asr.models.EncDecHybridRNNTCTCBPEModel.from_pretrained(model_name=\"nvidia/stt_fa_fastconformer_hybrid_large\").eval()"
   ]
  },
  {
   "cell_type": "code",
   "execution_count": 13,
   "id": "6989ddd6-2a66-49f6-beb0-a0ec43a86c78",
   "metadata": {
    "execution": {
     "iopub.execute_input": "2025-07-09T11:56:52.835621Z",
     "iopub.status.busy": "2025-07-09T11:56:52.835317Z",
     "iopub.status.idle": "2025-07-09T11:57:01.363729Z",
     "shell.execute_reply": "2025-07-09T11:57:01.363311Z",
     "shell.execute_reply.started": "2025-07-09T11:56:52.835597Z"
    }
   },
   "outputs": [
    {
     "name": "stderr",
     "output_type": "stream",
     "text": [
      "Transcribing: 100%|██████████| 250/250 [00:08<00:00, 29.48it/s]"
     ]
    },
    {
     "name": "stdout",
     "output_type": "stream",
     "text": [
      "\n",
      "WER: 14.72%\n"
     ]
    },
    {
     "name": "stderr",
     "output_type": "stream",
     "text": [
      "\n"
     ]
    }
   ],
   "source": [
    "manifest_path = os.path.expanduser(\"~/.cache/datasets/commonvoice/dev_manifest.json\")\n",
    "\n",
    "audio_files = []\n",
    "references = []\n",
    "predictions = []\n",
    "\n",
    "with open(manifest_path, \"r\", encoding=\"utf-8\") as f:\n",
    "    for line in f:\n",
    "        entry = json.loads(line)\n",
    "        audio_files.append(entry[\"audio_filepath\"])\n",
    "        references.append(entry[\"text\"])\n",
    "\n",
    "results = asr_model.transcribe(audio_files)\n",
    "predictions = [result.text for result in results]\n",
    "\n",
    "error_rate = wer(references, predictions)\n",
    "print(f\"\\nWER: {error_rate:.2%}\")"
   ]
  },
  {
   "cell_type": "markdown",
   "id": "a66fcb0e-7c0a-4767-9d6c-744da1e89509",
   "metadata": {
    "jp-MarkdownHeadingCollapsed": true
   },
   "source": [
    "# test"
   ]
  },
  {
   "cell_type": "code",
   "execution_count": 1,
   "id": "c6162732-f409-4ffa-9959-f002d7a99bae",
   "metadata": {
    "execution": {
     "iopub.execute_input": "2025-07-09T12:57:26.081648Z",
     "iopub.status.busy": "2025-07-09T12:57:26.081385Z",
     "iopub.status.idle": "2025-07-09T12:57:26.088870Z",
     "shell.execute_reply": "2025-07-09T12:57:26.086799Z",
     "shell.execute_reply.started": "2025-07-09T12:57:26.081625Z"
    }
   },
   "outputs": [],
   "source": [
    "import sys_append"
   ]
  },
  {
   "cell_type": "code",
   "execution_count": 2,
   "id": "0ef1375a-e155-4990-aaa0-ba43f8587915",
   "metadata": {
    "execution": {
     "iopub.execute_input": "2025-07-09T12:57:26.091329Z",
     "iopub.status.busy": "2025-07-09T12:57:26.091099Z",
     "iopub.status.idle": "2025-07-09T12:57:27.891773Z",
     "shell.execute_reply": "2025-07-09T12:57:27.891102Z",
     "shell.execute_reply.started": "2025-07-09T12:57:26.091308Z"
    }
   },
   "outputs": [],
   "source": [
    "from utils.create_dataset import create_nemo_dataset"
   ]
  },
  {
   "cell_type": "code",
   "execution_count": 3,
   "id": "3f360e52-3fb8-4aca-9fc7-dcce5c430b89",
   "metadata": {
    "execution": {
     "iopub.execute_input": "2025-07-09T12:57:27.892383Z",
     "iopub.status.busy": "2025-07-09T12:57:27.892201Z",
     "iopub.status.idle": "2025-07-09T12:57:33.734196Z",
     "shell.execute_reply": "2025-07-09T12:57:33.733861Z",
     "shell.execute_reply.started": "2025-07-09T12:57:27.892372Z"
    }
   },
   "outputs": [
    {
     "name": "stderr",
     "output_type": "stream",
     "text": [
      "Processing dev split: 100%|██████████| 1000/1000 [00:04<00:00, 215.56it/s]\n"
     ]
    }
   ],
   "source": [
    "create_nemo_dataset({\"dataset\": \"hsekhalilian/commonvoice\", \"split\": \"dev\", \"sample_size\": 1000})"
   ]
  },
  {
   "cell_type": "code",
   "execution_count": null,
   "id": "11a36371-9864-44b0-bfe5-ef2c28e110fb",
   "metadata": {},
   "outputs": [],
   "source": []
  }
 ],
 "metadata": {
  "kernelspec": {
   "display_name": "Python 3 (ipykernel)",
   "language": "python",
   "name": "python3"
  },
  "language_info": {
   "codemirror_mode": {
    "name": "ipython",
    "version": 3
   },
   "file_extension": ".py",
   "mimetype": "text/x-python",
   "name": "python",
   "nbconvert_exporter": "python",
   "pygments_lexer": "ipython3",
   "version": "3.12.9"
  }
 },
 "nbformat": 4,
 "nbformat_minor": 5
}
